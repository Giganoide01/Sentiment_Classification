{
  "cells": [
    {
      "cell_type": "markdown",
      "metadata": {
        "id": "ztHDTWXOFezc"
      },
      "source": [
        "# Importação das bibliotecas"
      ]
    },
    {
      "cell_type": "code",
      "execution_count": 2,
      "metadata": {
        "id": "l-MfuwDP9QJS",
        "colab": {
          "base_uri": "https://localhost:8080/"
        },
        "outputId": "7b88ee51-0258-4a2c-b95c-952bed70ce43"
      },
      "outputs": [
        {
          "output_type": "stream",
          "name": "stdout",
          "text": [
            "\u001b[?25l\r\u001b[K     |██▌                             | 10 kB 20.0 MB/s eta 0:00:01\r\u001b[K     |█████                           | 20 kB 12.2 MB/s eta 0:00:01\r\u001b[K     |███████▍                        | 30 kB 9.6 MB/s eta 0:00:01\r\u001b[K     |█████████▉                      | 40 kB 8.8 MB/s eta 0:00:01\r\u001b[K     |████████████▎                   | 51 kB 4.7 MB/s eta 0:00:01\r\u001b[K     |██████████████▊                 | 61 kB 5.5 MB/s eta 0:00:01\r\u001b[K     |█████████████████▏              | 71 kB 5.6 MB/s eta 0:00:01\r\u001b[K     |███████████████████▋            | 81 kB 5.6 MB/s eta 0:00:01\r\u001b[K     |██████████████████████          | 92 kB 6.2 MB/s eta 0:00:01\r\u001b[K     |████████████████████████▌       | 102 kB 5.3 MB/s eta 0:00:01\r\u001b[K     |███████████████████████████     | 112 kB 5.3 MB/s eta 0:00:01\r\u001b[K     |█████████████████████████████▍  | 122 kB 5.3 MB/s eta 0:00:01\r\u001b[K     |███████████████████████████████▉| 133 kB 5.3 MB/s eta 0:00:01\r\u001b[K     |████████████████████████████████| 133 kB 5.3 MB/s \n",
            "\u001b[?25h"
          ]
        }
      ],
      "source": [
        "!pip install -q -U keras-tuner"
      ]
    },
    {
      "cell_type": "code",
      "execution_count": 3,
      "metadata": {
        "colab": {
          "base_uri": "https://localhost:8080/"
        },
        "id": "ARqtudkItWKg",
        "outputId": "56d32629-39ad-4e31-cf41-1302d573aafa"
      },
      "outputs": [
        {
          "output_type": "stream",
          "name": "stdout",
          "text": [
            "[nltk_data] Downloading package punkt to /root/nltk_data...\n",
            "[nltk_data]   Unzipping tokenizers/punkt.zip.\n"
          ]
        }
      ],
      "source": [
        "import os\n",
        "import zipfile\n",
        "\n",
        "import pandas as pd\n",
        "import numpy as np\n",
        "\n",
        "from matplotlib import pyplot as plt\n",
        "\n",
        "from gensim.models import Word2Vec\n",
        "import nltk\n",
        "from nltk.tokenize import word_tokenize\n",
        "nltk.download('punkt')\n",
        "\n",
        "from sklearn.model_selection import train_test_split\n",
        "from sklearn.preprocessing import LabelEncoder\n",
        "\n",
        "from tensorflow.keras import Sequential\n",
        "from tensorflow.keras.layers import Conv1D,MaxPooling1D, GlobalAveragePooling1D, GlobalMaxPool1D, Embedding, Dense, Flatten, Dropout\n",
        "from keras.callbacks import EarlyStopping\n",
        "import tensorflow as tf\n",
        "from tensorflow import keras\n",
        "import keras_tuner as kt"
      ]
    },
    {
      "cell_type": "code",
      "execution_count": 5,
      "metadata": {
        "colab": {
          "base_uri": "https://localhost:8080/"
        },
        "id": "IA1PC1nrF9ID",
        "outputId": "f6106f9d-a21e-45ba-8883-801b595d6567"
      },
      "outputs": [
        {
          "output_type": "stream",
          "name": "stdout",
          "text": [
            "Mounted at /content/drive\n"
          ]
        }
      ],
      "source": [
        "from google.colab import drive\n",
        "drive.mount('/content/drive')"
      ]
    },
    {
      "cell_type": "code",
      "source": [
        "tf.random.set_seed(42)"
      ],
      "metadata": {
        "id": "D45RjNbC8wEe"
      },
      "execution_count": 6,
      "outputs": []
    },
    {
      "cell_type": "markdown",
      "metadata": {
        "id": "7qRINu-7Fiat"
      },
      "source": [
        "# Carregando os datasets"
      ]
    },
    {
      "cell_type": "code",
      "execution_count": 7,
      "metadata": {
        "colab": {
          "base_uri": "https://localhost:8080/",
          "height": 424
        },
        "id": "zdXVcxgfFmzU",
        "outputId": "2f7a007a-b671-452a-c154-dbe8eb9b8383"
      },
      "outputs": [
        {
          "output_type": "execute_result",
          "data": {
            "text/plain": [
              "     sent_rating                       processed_text_KeepStopwords  \\\n",
              "0       negativo  Bom em questão de som ela é realmente boa no e...   \n",
              "1       negativo  O produto não responde corretamente aos comand...   \n",
              "2       negativo  Quem compra uma caixa de som pensa normalmente...   \n",
              "3       negativo  A funcionalidade é muito boa Comprei as lâmpad...   \n",
              "4       positivo  Excelente assistente som muito bom e limpo a A...   \n",
              "...          ...                                                ...   \n",
              "3805    positivo  A mídia não pôde ser carregada Gostei de tudo ...   \n",
              "3806    positivo  Bom dia comprei a echo dot preta e o cabo da t...   \n",
              "3807    positivo  Amei a Alexa ela é incrível Porém fiquei chate...   \n",
              "3808    positivo  Atendeu minhas expectativas Reconhece voz ente...   \n",
              "3809    negativo  Tenho que falar muito alto para ela entender M...   \n",
              "\n",
              "                     data  \n",
              "0     2021-06-09 00:00:00  \n",
              "1     2020-11-26 00:00:00  \n",
              "2     2021-01-05 00:00:00  \n",
              "3     2021-06-16 00:00:00  \n",
              "4     2020-12-10 00:00:00  \n",
              "...                   ...  \n",
              "3805  2021-07-06 00:00:00  \n",
              "3806  2021-05-04 00:00:00  \n",
              "3807  2021-05-18 00:00:00  \n",
              "3808  2021-01-09 00:00:00  \n",
              "3809  2021-01-31 00:00:00  \n",
              "\n",
              "[3810 rows x 3 columns]"
            ],
            "text/html": [
              "\n",
              "  <div id=\"df-6c9aa33e-6fdc-4551-b167-8b30c7e3bada\">\n",
              "    <div class=\"colab-df-container\">\n",
              "      <div>\n",
              "<style scoped>\n",
              "    .dataframe tbody tr th:only-of-type {\n",
              "        vertical-align: middle;\n",
              "    }\n",
              "\n",
              "    .dataframe tbody tr th {\n",
              "        vertical-align: top;\n",
              "    }\n",
              "\n",
              "    .dataframe thead th {\n",
              "        text-align: right;\n",
              "    }\n",
              "</style>\n",
              "<table border=\"1\" class=\"dataframe\">\n",
              "  <thead>\n",
              "    <tr style=\"text-align: right;\">\n",
              "      <th></th>\n",
              "      <th>sent_rating</th>\n",
              "      <th>processed_text_KeepStopwords</th>\n",
              "      <th>data</th>\n",
              "    </tr>\n",
              "  </thead>\n",
              "  <tbody>\n",
              "    <tr>\n",
              "      <th>0</th>\n",
              "      <td>negativo</td>\n",
              "      <td>Bom em questão de som ela é realmente boa no e...</td>\n",
              "      <td>2021-06-09 00:00:00</td>\n",
              "    </tr>\n",
              "    <tr>\n",
              "      <th>1</th>\n",
              "      <td>negativo</td>\n",
              "      <td>O produto não responde corretamente aos comand...</td>\n",
              "      <td>2020-11-26 00:00:00</td>\n",
              "    </tr>\n",
              "    <tr>\n",
              "      <th>2</th>\n",
              "      <td>negativo</td>\n",
              "      <td>Quem compra uma caixa de som pensa normalmente...</td>\n",
              "      <td>2021-01-05 00:00:00</td>\n",
              "    </tr>\n",
              "    <tr>\n",
              "      <th>3</th>\n",
              "      <td>negativo</td>\n",
              "      <td>A funcionalidade é muito boa Comprei as lâmpad...</td>\n",
              "      <td>2021-06-16 00:00:00</td>\n",
              "    </tr>\n",
              "    <tr>\n",
              "      <th>4</th>\n",
              "      <td>positivo</td>\n",
              "      <td>Excelente assistente som muito bom e limpo a A...</td>\n",
              "      <td>2020-12-10 00:00:00</td>\n",
              "    </tr>\n",
              "    <tr>\n",
              "      <th>...</th>\n",
              "      <td>...</td>\n",
              "      <td>...</td>\n",
              "      <td>...</td>\n",
              "    </tr>\n",
              "    <tr>\n",
              "      <th>3805</th>\n",
              "      <td>positivo</td>\n",
              "      <td>A mídia não pôde ser carregada Gostei de tudo ...</td>\n",
              "      <td>2021-07-06 00:00:00</td>\n",
              "    </tr>\n",
              "    <tr>\n",
              "      <th>3806</th>\n",
              "      <td>positivo</td>\n",
              "      <td>Bom dia comprei a echo dot preta e o cabo da t...</td>\n",
              "      <td>2021-05-04 00:00:00</td>\n",
              "    </tr>\n",
              "    <tr>\n",
              "      <th>3807</th>\n",
              "      <td>positivo</td>\n",
              "      <td>Amei a Alexa ela é incrível Porém fiquei chate...</td>\n",
              "      <td>2021-05-18 00:00:00</td>\n",
              "    </tr>\n",
              "    <tr>\n",
              "      <th>3808</th>\n",
              "      <td>positivo</td>\n",
              "      <td>Atendeu minhas expectativas Reconhece voz ente...</td>\n",
              "      <td>2021-01-09 00:00:00</td>\n",
              "    </tr>\n",
              "    <tr>\n",
              "      <th>3809</th>\n",
              "      <td>negativo</td>\n",
              "      <td>Tenho que falar muito alto para ela entender M...</td>\n",
              "      <td>2021-01-31 00:00:00</td>\n",
              "    </tr>\n",
              "  </tbody>\n",
              "</table>\n",
              "<p>3810 rows × 3 columns</p>\n",
              "</div>\n",
              "      <button class=\"colab-df-convert\" onclick=\"convertToInteractive('df-6c9aa33e-6fdc-4551-b167-8b30c7e3bada')\"\n",
              "              title=\"Convert this dataframe to an interactive table.\"\n",
              "              style=\"display:none;\">\n",
              "        \n",
              "  <svg xmlns=\"http://www.w3.org/2000/svg\" height=\"24px\"viewBox=\"0 0 24 24\"\n",
              "       width=\"24px\">\n",
              "    <path d=\"M0 0h24v24H0V0z\" fill=\"none\"/>\n",
              "    <path d=\"M18.56 5.44l.94 2.06.94-2.06 2.06-.94-2.06-.94-.94-2.06-.94 2.06-2.06.94zm-11 1L8.5 8.5l.94-2.06 2.06-.94-2.06-.94L8.5 2.5l-.94 2.06-2.06.94zm10 10l.94 2.06.94-2.06 2.06-.94-2.06-.94-.94-2.06-.94 2.06-2.06.94z\"/><path d=\"M17.41 7.96l-1.37-1.37c-.4-.4-.92-.59-1.43-.59-.52 0-1.04.2-1.43.59L10.3 9.45l-7.72 7.72c-.78.78-.78 2.05 0 2.83L4 21.41c.39.39.9.59 1.41.59.51 0 1.02-.2 1.41-.59l7.78-7.78 2.81-2.81c.8-.78.8-2.07 0-2.86zM5.41 20L4 18.59l7.72-7.72 1.47 1.35L5.41 20z\"/>\n",
              "  </svg>\n",
              "      </button>\n",
              "      \n",
              "  <style>\n",
              "    .colab-df-container {\n",
              "      display:flex;\n",
              "      flex-wrap:wrap;\n",
              "      gap: 12px;\n",
              "    }\n",
              "\n",
              "    .colab-df-convert {\n",
              "      background-color: #E8F0FE;\n",
              "      border: none;\n",
              "      border-radius: 50%;\n",
              "      cursor: pointer;\n",
              "      display: none;\n",
              "      fill: #1967D2;\n",
              "      height: 32px;\n",
              "      padding: 0 0 0 0;\n",
              "      width: 32px;\n",
              "    }\n",
              "\n",
              "    .colab-df-convert:hover {\n",
              "      background-color: #E2EBFA;\n",
              "      box-shadow: 0px 1px 2px rgba(60, 64, 67, 0.3), 0px 1px 3px 1px rgba(60, 64, 67, 0.15);\n",
              "      fill: #174EA6;\n",
              "    }\n",
              "\n",
              "    [theme=dark] .colab-df-convert {\n",
              "      background-color: #3B4455;\n",
              "      fill: #D2E3FC;\n",
              "    }\n",
              "\n",
              "    [theme=dark] .colab-df-convert:hover {\n",
              "      background-color: #434B5C;\n",
              "      box-shadow: 0px 1px 3px 1px rgba(0, 0, 0, 0.15);\n",
              "      filter: drop-shadow(0px 1px 2px rgba(0, 0, 0, 0.3));\n",
              "      fill: #FFFFFF;\n",
              "    }\n",
              "  </style>\n",
              "\n",
              "      <script>\n",
              "        const buttonEl =\n",
              "          document.querySelector('#df-6c9aa33e-6fdc-4551-b167-8b30c7e3bada button.colab-df-convert');\n",
              "        buttonEl.style.display =\n",
              "          google.colab.kernel.accessAllowed ? 'block' : 'none';\n",
              "\n",
              "        async function convertToInteractive(key) {\n",
              "          const element = document.querySelector('#df-6c9aa33e-6fdc-4551-b167-8b30c7e3bada');\n",
              "          const dataTable =\n",
              "            await google.colab.kernel.invokeFunction('convertToInteractive',\n",
              "                                                     [key], {});\n",
              "          if (!dataTable) return;\n",
              "\n",
              "          const docLinkHtml = 'Like what you see? Visit the ' +\n",
              "            '<a target=\"_blank\" href=https://colab.research.google.com/notebooks/data_table.ipynb>data table notebook</a>'\n",
              "            + ' to learn more about interactive tables.';\n",
              "          element.innerHTML = '';\n",
              "          dataTable['output_type'] = 'display_data';\n",
              "          await google.colab.output.renderOutput(dataTable, element);\n",
              "          const docLink = document.createElement('div');\n",
              "          docLink.innerHTML = docLinkHtml;\n",
              "          element.appendChild(docLink);\n",
              "        }\n",
              "      </script>\n",
              "    </div>\n",
              "  </div>\n",
              "  "
            ]
          },
          "metadata": {},
          "execution_count": 7
        }
      ],
      "source": [
        "df = pd.read_csv('/content/drive/MyDrive/ProjetoFinal_ProcessText/datasets/NoStem_StopwordKeep_dataset.csv')\n",
        "df"
      ]
    },
    {
      "cell_type": "markdown",
      "metadata": {
        "id": "PUyGGy_3GWXU"
      },
      "source": [
        "# Processamento dos dados"
      ]
    },
    {
      "cell_type": "markdown",
      "metadata": {
        "id": "6hkJR5pgIkox"
      },
      "source": [
        "## Treinando o Word2Vec com modelo pré-treinado\n",
        "\n"
      ]
    },
    {
      "cell_type": "code",
      "execution_count": 8,
      "metadata": {
        "id": "SH24mKGnalZm"
      },
      "outputs": [],
      "source": [
        "df['processed_text_KeepStopwords'] = df['processed_text_KeepStopwords'].apply(lambda x: x.lower())"
      ]
    },
    {
      "cell_type": "code",
      "execution_count": 9,
      "metadata": {
        "id": "5QjdvVhQGZ4W"
      },
      "outputs": [],
      "source": [
        "tokenized_sents = [word_tokenize(i) for i in df['processed_text_KeepStopwords'].values]"
      ]
    },
    {
      "cell_type": "code",
      "execution_count": 1,
      "metadata": {
        "colab": {
          "base_uri": "https://localhost:8080/"
        },
        "id": "Hln5Uoy3T-ey",
        "outputId": "3d07d685-48e2-40e9-9136-ebe8ab1175b2"
      },
      "outputs": [
        {
          "output_type": "stream",
          "name": "stdout",
          "text": [
            "--2022-04-04 01:58:02--  http://143.107.183.175:22980/download.php?file=embeddings/word2vec/cbow_s100.zip\n",
            "Connecting to 143.107.183.175:22980... connected.\n",
            "HTTP request sent, awaiting response... 200 OK\n",
            "Length: 326003567 (311M) [application/octet-stream]\n",
            "Saving to: ‘/tmp/cbow_s100.zip’\n",
            "\n",
            "/tmp/cbow_s100.zip  100%[===================>] 310.90M  2.53MB/s    in 75s     \n",
            "\n",
            "2022-04-04 01:59:18 (4.15 MB/s) - ‘/tmp/cbow_s100.zip’ saved [326003567/326003567]\n",
            "\n"
          ]
        }
      ],
      "source": [
        "# Download do Word2Vec CBOW de 100 vetores do repositório do NILC - USP\n",
        "!wget --no-check-certificate \\\n",
        "http://143.107.183.175:22980/download.php?file=embeddings/word2vec/cbow_s100.zip \\\n",
        "-O /tmp/cbow_s100.zip"
      ]
    },
    {
      "cell_type": "code",
      "execution_count": 10,
      "metadata": {
        "id": "6jysQBjskMgC"
      },
      "outputs": [],
      "source": [
        "# Extração do arquivo .zip\n",
        "with zipfile.ZipFile('/tmp/cbow_s100.zip', 'r') as zip_ref:\n",
        "    zip_ref.extractall('/tmp/cbow')"
      ]
    },
    {
      "cell_type": "code",
      "execution_count": 11,
      "metadata": {
        "id": "SDJvKmSpp6km",
        "colab": {
          "base_uri": "https://localhost:8080/"
        },
        "outputId": "c95f7f4a-ce62-4b61-b5ff-e5493ce0951e"
      },
      "outputs": [
        {
          "output_type": "execute_result",
          "data": {
            "text/plain": [
              "(0, 0)"
            ]
          },
          "metadata": {},
          "execution_count": 11
        }
      ],
      "source": [
        "model_noStem = Word2Vec(size=100, window=5, min_count=1, workers=-1)\n",
        "model_noStem.build_vocab(tokenized_sents)\n",
        " \n",
        "# assign the vectors to the vocabs that are in Google's pre-trained model and your sentences defined above.\n",
        "# lockf needs to be set to 1.0 to allow continued training.\n",
        "model_noStem.intersect_word2vec_format('/tmp/cbow/cbow_s100.txt', lockf=1.0)\n",
        " \n",
        "# continue training with you own data\n",
        "model_noStem.train(tokenized_sents, total_examples=3, epochs = 5)\n"
      ]
    },
    {
      "cell_type": "markdown",
      "metadata": {
        "id": "5qIbgNIZI_IE"
      },
      "source": [
        "### Montagem do vetor com os embedings"
      ]
    },
    {
      "cell_type": "code",
      "execution_count": 12,
      "metadata": {
        "id": "iYJuH0G4JBaW",
        "colab": {
          "base_uri": "https://localhost:8080/"
        },
        "outputId": "8efd7c43-a346-42a6-8575-34bdf8fdd8bc"
      },
      "outputs": [
        {
          "output_type": "stream",
          "name": "stderr",
          "text": [
            "/usr/local/lib/python3.7/dist-packages/ipykernel_launcher.py:5: DeprecationWarning: Call to deprecated `__getitem__` (Method will be removed in 4.0.0, use self.wv.__getitem__() instead).\n",
            "  \"\"\"\n"
          ]
        },
        {
          "output_type": "stream",
          "name": "stdout",
          "text": [
            "max_len: 562\n"
          ]
        }
      ],
      "source": [
        "X = []\n",
        "max_len = 0\n",
        "\n",
        "for i, row in df.iterrows():\n",
        "  vetores = model_noStem[word_tokenize(row['processed_text_KeepStopwords'])]\n",
        "\n",
        "  max_len = max(max_len, len(vetores))\n",
        "  X.append(vetores)\n",
        "print(\"max_len: {}\".format(max_len))\n",
        "\n",
        "# Padding\n",
        "def padding(exemplos, dimension):\n",
        "  results = np.zeros((len(exemplos), dimension, 100))\n",
        "  for i, sequence in enumerate(exemplos):\n",
        "    results[i, :len(sequence), :] = sequence\n",
        "  return results\n",
        " \n",
        "X = padding(X, max_len)"
      ]
    },
    {
      "cell_type": "code",
      "execution_count": 13,
      "metadata": {
        "id": "wpqjvIDUJrY9",
        "colab": {
          "base_uri": "https://localhost:8080/"
        },
        "outputId": "f53098b7-8810-44fb-a2c4-9f4a1b51e113"
      },
      "outputs": [
        {
          "output_type": "execute_result",
          "data": {
            "text/plain": [
              "(3810, 562, 100)"
            ]
          },
          "metadata": {},
          "execution_count": 13
        }
      ],
      "source": [
        "X.shape"
      ]
    },
    {
      "cell_type": "markdown",
      "metadata": {
        "id": "MTFiiaKMJjJC"
      },
      "source": [
        "### Label encoding de y"
      ]
    },
    {
      "cell_type": "code",
      "execution_count": 14,
      "metadata": {
        "id": "81LiXKMMJsA8",
        "colab": {
          "base_uri": "https://localhost:8080/"
        },
        "outputId": "b43ea3ef-1f5f-4b05-ae5d-b59eaab48d63"
      },
      "outputs": [
        {
          "output_type": "stream",
          "name": "stdout",
          "text": [
            "['negativo' 'positivo']\n"
          ]
        },
        {
          "output_type": "execute_result",
          "data": {
            "text/plain": [
              "array([0, 1])"
            ]
          },
          "metadata": {},
          "execution_count": 14
        }
      ],
      "source": [
        "y= df['sent_rating']\n",
        "print(np.unique(y))\n",
        "y = LabelEncoder().fit_transform(y)\n",
        "np.unique(y)"
      ]
    },
    {
      "cell_type": "markdown",
      "metadata": {
        "id": "YK2VSaVHM2oz"
      },
      "source": [
        "### Divisão em treino e treino"
      ]
    },
    {
      "cell_type": "code",
      "execution_count": 15,
      "metadata": {
        "id": "9ENr6FT6NAYy"
      },
      "outputs": [],
      "source": [
        "X_train, X_test, y_train, y_test = train_test_split(X, y, test_size=0.20, random_state=42)"
      ]
    },
    {
      "cell_type": "code",
      "execution_count": 16,
      "metadata": {
        "id": "FkaI3pF0NX30",
        "colab": {
          "base_uri": "https://localhost:8080/"
        },
        "outputId": "ab8822f6-d6a0-44ea-cc28-6664c9e4959f"
      },
      "outputs": [
        {
          "output_type": "stream",
          "name": "stdout",
          "text": [
            "(3048, 562, 100) (762, 562, 100)\n"
          ]
        }
      ],
      "source": [
        "print(X_train.shape, X_test.shape)"
      ]
    },
    {
      "cell_type": "markdown",
      "metadata": {
        "id": "p4054gEcOI00"
      },
      "source": [
        "# Construção dos modelos"
      ]
    },
    {
      "cell_type": "markdown",
      "metadata": {
        "id": "N8qH4-2OczHl"
      },
      "source": [
        "## Inicializando o modelo basico"
      ]
    },
    {
      "cell_type": "code",
      "execution_count": 17,
      "metadata": {
        "id": "T6E4ZNUQORI5",
        "colab": {
          "base_uri": "https://localhost:8080/"
        },
        "outputId": "f5b8d67a-5c15-4a29-f6d9-2aaada730507"
      },
      "outputs": [
        {
          "output_type": "stream",
          "name": "stdout",
          "text": [
            "Model: \"sequential\"\n",
            "_________________________________________________________________\n",
            " Layer (type)                Output Shape              Param #   \n",
            "=================================================================\n",
            " conv1d (Conv1D)             (None, 558, 128)          64128     \n",
            "                                                                 \n",
            " global_max_pooling1d (Globa  (None, 128)              0         \n",
            " lMaxPooling1D)                                                  \n",
            "                                                                 \n",
            " dropout (Dropout)           (None, 128)               0         \n",
            "                                                                 \n",
            " dense (Dense)               (None, 10)                1290      \n",
            "                                                                 \n",
            " dense_1 (Dense)             (None, 1)                 11        \n",
            "                                                                 \n",
            "=================================================================\n",
            "Total params: 65,429\n",
            "Trainable params: 65,429\n",
            "Non-trainable params: 0\n",
            "_________________________________________________________________\n"
          ]
        }
      ],
      "source": [
        "model_base = Sequential()\n",
        "model_base.add(Conv1D(128, 5, activation='relu', input_shape=(562,100)))\n",
        "model_base.add(GlobalMaxPool1D())\n",
        "model_base.add(Dropout(0.5))\n",
        "model_base.add(Dense(10, activation='relu'))\n",
        "model_base.add(Dense(1, activation='sigmoid'))\n",
        "model_base.summary()"
      ]
    },
    {
      "cell_type": "markdown",
      "metadata": {
        "id": "Upk_tXmC9qgH"
      },
      "source": [
        "## Compilando o modelo"
      ]
    },
    {
      "cell_type": "code",
      "execution_count": 18,
      "metadata": {
        "id": "KFkMYYNYSC1V"
      },
      "outputs": [],
      "source": [
        "metrics = ['acc','Precision','Recall']\n",
        "model_base.compile(\n",
        " optimizer = \"adam\",\n",
        " loss = \"binary_crossentropy\",\n",
        " metrics = metrics\n",
        ")"
      ]
    },
    {
      "cell_type": "markdown",
      "metadata": {
        "id": "GostJQHQ9ugO"
      },
      "source": [
        "## Treinando o modelo base"
      ]
    },
    {
      "cell_type": "code",
      "execution_count": 19,
      "metadata": {
        "id": "3CdUYP2tSGbq",
        "colab": {
          "base_uri": "https://localhost:8080/"
        },
        "outputId": "6593ba67-d3df-437d-c891-72abaa3595ad"
      },
      "outputs": [
        {
          "output_type": "stream",
          "name": "stdout",
          "text": [
            "Epoch 1/50\n",
            "17/17 [==============================] - 13s 113ms/step - loss: 0.6867 - acc: 0.6235 - precision: 0.8599 - recall: 0.6659 - val_loss: 0.4964 - val_acc: 0.8541 - val_precision: 0.8541 - val_recall: 1.0000\n",
            "Epoch 2/50\n",
            "17/17 [==============================] - 1s 82ms/step - loss: 0.4569 - acc: 0.8507 - precision: 0.8507 - recall: 1.0000 - val_loss: 0.4270 - val_acc: 0.8541 - val_precision: 0.8541 - val_recall: 1.0000\n",
            "Epoch 3/50\n",
            "17/17 [==============================] - 1s 75ms/step - loss: 0.4292 - acc: 0.8507 - precision: 0.8507 - recall: 1.0000 - val_loss: 0.4201 - val_acc: 0.8541 - val_precision: 0.8541 - val_recall: 1.0000\n",
            "Epoch 4/50\n",
            "17/17 [==============================] - 1s 79ms/step - loss: 0.4185 - acc: 0.8507 - precision: 0.8507 - recall: 1.0000 - val_loss: 0.4111 - val_acc: 0.8541 - val_precision: 0.8541 - val_recall: 1.0000\n",
            "Epoch 5/50\n",
            "17/17 [==============================] - 1s 75ms/step - loss: 0.4019 - acc: 0.8511 - precision: 0.8510 - recall: 1.0000 - val_loss: 0.4038 - val_acc: 0.8541 - val_precision: 0.8541 - val_recall: 1.0000\n",
            "Epoch 6/50\n",
            "17/17 [==============================] - 1s 87ms/step - loss: 0.3884 - acc: 0.8507 - precision: 0.8507 - recall: 1.0000 - val_loss: 0.3958 - val_acc: 0.8541 - val_precision: 0.8541 - val_recall: 1.0000\n",
            "Epoch 7/50\n",
            "17/17 [==============================] - 1s 78ms/step - loss: 0.3771 - acc: 0.8503 - precision: 0.8506 - recall: 0.9995 - val_loss: 0.3879 - val_acc: 0.8541 - val_precision: 0.8541 - val_recall: 1.0000\n",
            "Epoch 8/50\n",
            "17/17 [==============================] - 2s 91ms/step - loss: 0.3659 - acc: 0.8507 - precision: 0.8507 - recall: 1.0000 - val_loss: 0.3811 - val_acc: 0.8541 - val_precision: 0.8541 - val_recall: 1.0000\n",
            "Epoch 9/50\n",
            "17/17 [==============================] - 1s 79ms/step - loss: 0.3509 - acc: 0.8511 - precision: 0.8510 - recall: 1.0000 - val_loss: 0.3731 - val_acc: 0.8541 - val_precision: 0.8541 - val_recall: 1.0000\n",
            "Epoch 10/50\n",
            "17/17 [==============================] - 1s 84ms/step - loss: 0.3433 - acc: 0.8507 - precision: 0.8507 - recall: 1.0000 - val_loss: 0.3655 - val_acc: 0.8541 - val_precision: 0.8541 - val_recall: 1.0000\n",
            "Epoch 11/50\n",
            "17/17 [==============================] - 1s 79ms/step - loss: 0.3279 - acc: 0.8515 - precision: 0.8514 - recall: 1.0000 - val_loss: 0.3595 - val_acc: 0.8541 - val_precision: 0.8541 - val_recall: 1.0000\n",
            "Epoch 12/50\n",
            "17/17 [==============================] - 1s 84ms/step - loss: 0.3183 - acc: 0.8523 - precision: 0.8527 - recall: 0.9990 - val_loss: 0.3529 - val_acc: 0.8541 - val_precision: 0.8541 - val_recall: 1.0000\n",
            "Epoch 13/50\n",
            "17/17 [==============================] - 1s 63ms/step - loss: 0.3001 - acc: 0.8519 - precision: 0.8523 - recall: 0.9990 - val_loss: 0.3480 - val_acc: 0.8541 - val_precision: 0.8541 - val_recall: 1.0000\n",
            "Epoch 14/50\n",
            "17/17 [==============================] - 1s 61ms/step - loss: 0.2869 - acc: 0.8519 - precision: 0.8523 - recall: 0.9990 - val_loss: 0.3464 - val_acc: 0.8541 - val_precision: 0.8541 - val_recall: 1.0000\n",
            "Epoch 15/50\n",
            "17/17 [==============================] - 1s 62ms/step - loss: 0.2811 - acc: 0.8536 - precision: 0.8531 - recall: 1.0000 - val_loss: 0.3381 - val_acc: 0.8541 - val_precision: 0.8541 - val_recall: 1.0000\n",
            "Epoch 16/50\n",
            "17/17 [==============================] - 1s 63ms/step - loss: 0.2686 - acc: 0.8552 - precision: 0.8548 - recall: 0.9995 - val_loss: 0.3412 - val_acc: 0.8541 - val_precision: 0.8541 - val_recall: 1.0000\n",
            "Epoch 17/50\n",
            "17/17 [==============================] - 1s 64ms/step - loss: 0.2562 - acc: 0.8597 - precision: 0.8590 - recall: 0.9990 - val_loss: 0.3351 - val_acc: 0.8541 - val_precision: 0.8541 - val_recall: 1.0000\n",
            "Epoch 18/50\n",
            "17/17 [==============================] - 1s 63ms/step - loss: 0.2492 - acc: 0.8577 - precision: 0.8587 - recall: 0.9966 - val_loss: 0.3373 - val_acc: 0.8541 - val_precision: 0.8541 - val_recall: 1.0000\n",
            "Epoch 19/50\n",
            "17/17 [==============================] - 1s 63ms/step - loss: 0.2431 - acc: 0.8700 - precision: 0.8687 - recall: 0.9981 - val_loss: 0.3323 - val_acc: 0.8541 - val_precision: 0.8541 - val_recall: 1.0000\n",
            "Epoch 20/50\n",
            "17/17 [==============================] - 1s 61ms/step - loss: 0.2197 - acc: 0.8864 - precision: 0.8868 - recall: 0.9932 - val_loss: 0.3347 - val_acc: 0.8590 - val_precision: 0.8631 - val_recall: 0.9923\n",
            "Epoch 21/50\n",
            "17/17 [==============================] - 1s 61ms/step - loss: 0.2117 - acc: 0.9053 - precision: 0.9134 - recall: 0.9817 - val_loss: 0.3263 - val_acc: 0.8607 - val_precision: 0.8707 - val_recall: 0.9827\n",
            "Epoch 22/50\n",
            "17/17 [==============================] - 1s 62ms/step - loss: 0.1835 - acc: 0.9295 - precision: 0.9311 - recall: 0.9904 - val_loss: 0.3264 - val_acc: 0.8623 - val_precision: 0.8710 - val_recall: 0.9846\n",
            "Epoch 23/50\n",
            "17/17 [==============================] - 1s 63ms/step - loss: 0.1685 - acc: 0.9401 - precision: 0.9488 - recall: 0.9826 - val_loss: 0.3344 - val_acc: 0.8590 - val_precision: 0.8668 - val_recall: 0.9866\n",
            "Epoch 23: early stopping\n"
          ]
        }
      ],
      "source": [
        "es = EarlyStopping(monitor='val_loss', mode='auto', patience = 2, verbose=1)\n",
        "\n",
        "results = model_base.fit(\n",
        " X_train, y_train,\n",
        " epochs= 50,\n",
        " batch_size = 150,\n",
        " validation_split=0.2,\n",
        " callbacks = [es]\n",
        ")"
      ]
    },
    {
      "cell_type": "markdown",
      "metadata": {
        "id": "E4MyBaaR976P"
      },
      "source": [
        "## Teste do modelo base"
      ]
    },
    {
      "cell_type": "code",
      "execution_count": 20,
      "metadata": {
        "id": "Z4OIT5hScSEF",
        "colab": {
          "base_uri": "https://localhost:8080/"
        },
        "outputId": "afe132dc-a7ed-4089-f3c7-5237bac32638"
      },
      "outputs": [
        {
          "output_type": "stream",
          "name": "stdout",
          "text": [
            "24/24 - 0s - loss: 0.3389 - acc: 0.8556 - precision: 0.8585 - recall: 0.9922 - 223ms/epoch - 9ms/step\n"
          ]
        }
      ],
      "source": [
        "test_result = model_base.evaluate(X_test,  y_test, verbose=2)"
      ]
    },
    {
      "cell_type": "code",
      "execution_count": 21,
      "metadata": {
        "id": "kCJBQewFVflG",
        "colab": {
          "base_uri": "https://localhost:8080/"
        },
        "outputId": "9a5b1b58-6048-4f0e-bbaf-95569e3582b7"
      },
      "outputs": [
        {
          "output_type": "stream",
          "name": "stdout",
          "text": [
            "F1-Score: 0.9205202345402334\n"
          ]
        }
      ],
      "source": [
        "precision = test_result[2]\n",
        "recall = test_result[3]\n",
        "f1_score = (2*recall*precision)/(recall+precision)\n",
        "print('F1-Score:', f1_score)"
      ]
    },
    {
      "cell_type": "markdown",
      "metadata": {
        "id": "25R4O_fr9-i1"
      },
      "source": [
        "## Otimização"
      ]
    },
    {
      "cell_type": "markdown",
      "metadata": {
        "id": "paYzwZ-S-G6m"
      },
      "source": [
        "### Inicializando função de otimização do modelo"
      ]
    },
    {
      "cell_type": "code",
      "execution_count": 22,
      "metadata": {
        "id": "0hOOtM26-hJO"
      },
      "outputs": [],
      "source": [
        "def model_builder(hp):\n",
        "  model_new = Sequential()\n",
        "\n",
        "  hp_units1 = hp.Int('units', min_value=5, max_value=201, step=5)\n",
        "  hp_units2 = hp.Int('units2', min_value=2, max_value=101, step=2)\n",
        "  model_new.add(Conv1D(hp_units1, hp_units2, activation='relu', input_shape=(562,100)))\n",
        "\n",
        "  model_new.add(GlobalMaxPool1D())\n",
        "\n",
        "  hp_units3 = hp.Float('units3', min_value=0.1, max_value=0.9, step=0.1)\n",
        "  model_new.add(Dropout(hp_units3))\n",
        "\n",
        "  hp_units4 = hp.Int('units4', min_value=2, max_value=101, step=2)\n",
        "  model_new.add(Dense(hp_units4, activation='relu'))\n",
        "\n",
        "  model_new.add(Dense(1, activation='sigmoid'))\n",
        "\n",
        "  hp_learning_rate = hp.Choice('learning_rate', values=[1e-1,1e-2, 1e-3, 1e-4,1e-5])\n",
        "\n",
        "  model_new.compile(\n",
        "      optimizer = keras.optimizers.Adam(learning_rate=hp_learning_rate),\n",
        "      loss = \"binary_crossentropy\",\n",
        "      metrics = metrics\n",
        "      )\n",
        "\n",
        "  return model_new"
      ]
    },
    {
      "cell_type": "markdown",
      "metadata": {
        "id": "DSM7uIGh-WUl"
      },
      "source": [
        "### Inicializando o otimizador"
      ]
    },
    {
      "cell_type": "code",
      "execution_count": 23,
      "metadata": {
        "id": "3m9VdTGhHzqP"
      },
      "outputs": [],
      "source": [
        "tuner = kt.Hyperband(model_builder,\n",
        "                     objective=kt.Objective(\"val_acc\", direction=\"max\"),\n",
        "                     max_epochs=20,\n",
        "                     factor=3,\n",
        "                     directory='/content/drive/MyDrive/ProjetoFinal_ProcessText/',\n",
        "                     project_name='tune_CNN_2')"
      ]
    },
    {
      "cell_type": "code",
      "execution_count": 24,
      "metadata": {
        "id": "oWvHypNuILHs"
      },
      "outputs": [],
      "source": [
        "stop_early = EarlyStopping(monitor='val_loss', mode='auto', patience = 2)"
      ]
    },
    {
      "cell_type": "markdown",
      "metadata": {
        "id": "M0Rcdya7-gZy"
      },
      "source": [
        "### Busca pelo modelo otimizado"
      ]
    },
    {
      "cell_type": "code",
      "execution_count": 25,
      "metadata": {
        "id": "G4YYxbdpIVAw",
        "colab": {
          "base_uri": "https://localhost:8080/"
        },
        "outputId": "8d429cab-7543-4a22-f663-1b94e671119e"
      },
      "outputs": [
        {
          "output_type": "stream",
          "name": "stdout",
          "text": [
            "Trial 30 Complete [00h 00m 25s]\n",
            "val_acc: 0.8655737638473511\n",
            "\n",
            "Best val_acc So Far: 0.8655737638473511\n",
            "Total elapsed time: 00h 06m 56s\n",
            "INFO:tensorflow:Oracle triggered exit\n"
          ]
        }
      ],
      "source": [
        "tuner.search(X_train, y_train, epochs=50, batch_size = 150, validation_split=0.2, callbacks=[stop_early])\n",
        "\n",
        "# Get the optimal hyperparameters\n",
        "best_hps=tuner.get_best_hyperparameters(num_trials=1)[0]"
      ]
    },
    {
      "cell_type": "markdown",
      "metadata": {
        "id": "zMhD8XqI-m_n"
      },
      "source": [
        "### Treino do modelo otimizado"
      ]
    },
    {
      "cell_type": "code",
      "execution_count": 26,
      "metadata": {
        "id": "Z_rZL1xM4oBL",
        "colab": {
          "base_uri": "https://localhost:8080/"
        },
        "outputId": "d8c28f1c-310d-41f1-fc8e-745370f4c2c3"
      },
      "outputs": [
        {
          "output_type": "stream",
          "name": "stdout",
          "text": [
            "Model: \"sequential_1\"\n",
            "_________________________________________________________________\n",
            " Layer (type)                Output Shape              Param #   \n",
            "=================================================================\n",
            " conv1d_1 (Conv1D)           (None, 529, 50)           170050    \n",
            "                                                                 \n",
            " global_max_pooling1d_1 (Glo  (None, 50)               0         \n",
            " balMaxPooling1D)                                                \n",
            "                                                                 \n",
            " dropout_1 (Dropout)         (None, 50)                0         \n",
            "                                                                 \n",
            " dense_2 (Dense)             (None, 62)                3162      \n",
            "                                                                 \n",
            " dense_3 (Dense)             (None, 1)                 63        \n",
            "                                                                 \n",
            "=================================================================\n",
            "Total params: 173,275\n",
            "Trainable params: 173,275\n",
            "Non-trainable params: 0\n",
            "_________________________________________________________________\n"
          ]
        }
      ],
      "source": [
        "model_tuned = tuner.hypermodel.build(best_hps)\n",
        "model_tuned.summary()"
      ]
    },
    {
      "cell_type": "code",
      "execution_count": 27,
      "metadata": {
        "id": "fCYi1bIgRtR2",
        "colab": {
          "base_uri": "https://localhost:8080/"
        },
        "outputId": "630ffbb4-a49f-4cda-fa67-ef642c0abee4"
      },
      "outputs": [
        {
          "output_type": "stream",
          "name": "stdout",
          "text": [
            "Epoch 1/50\n",
            "17/17 [==============================] - 3s 97ms/step - loss: 0.6014 - acc: 0.6981 - precision: 0.8570 - recall: 0.7743 - val_loss: 0.4639 - val_acc: 0.8541 - val_precision: 0.8541 - val_recall: 1.0000\n",
            "Epoch 2/50\n",
            "17/17 [==============================] - 1s 64ms/step - loss: 0.4507 - acc: 0.8507 - precision: 0.8507 - recall: 1.0000 - val_loss: 0.4374 - val_acc: 0.8541 - val_precision: 0.8541 - val_recall: 1.0000\n",
            "Epoch 3/50\n",
            "17/17 [==============================] - 1s 67ms/step - loss: 0.4138 - acc: 0.8507 - precision: 0.8507 - recall: 1.0000 - val_loss: 0.4165 - val_acc: 0.8541 - val_precision: 0.8541 - val_recall: 1.0000\n",
            "Epoch 4/50\n",
            "17/17 [==============================] - 1s 64ms/step - loss: 0.3805 - acc: 0.8507 - precision: 0.8507 - recall: 1.0000 - val_loss: 0.3902 - val_acc: 0.8541 - val_precision: 0.8541 - val_recall: 1.0000\n",
            "Epoch 5/50\n",
            "17/17 [==============================] - 1s 65ms/step - loss: 0.3322 - acc: 0.8532 - precision: 0.8528 - recall: 1.0000 - val_loss: 0.3623 - val_acc: 0.8541 - val_precision: 0.8541 - val_recall: 1.0000\n",
            "Epoch 6/50\n",
            "17/17 [==============================] - 1s 65ms/step - loss: 0.2772 - acc: 0.8868 - precision: 0.8826 - recall: 1.0000 - val_loss: 0.3467 - val_acc: 0.8574 - val_precision: 0.8569 - val_recall: 1.0000\n",
            "Epoch 7/50\n",
            "17/17 [==============================] - 1s 64ms/step - loss: 0.2123 - acc: 0.9204 - precision: 0.9170 - recall: 0.9966 - val_loss: 0.3539 - val_acc: 0.8590 - val_precision: 0.8583 - val_recall: 1.0000\n",
            "Epoch 8/50\n",
            "17/17 [==============================] - 1s 68ms/step - loss: 0.1586 - acc: 0.9409 - precision: 0.9374 - recall: 0.9971 - val_loss: 0.3509 - val_acc: 0.8656 - val_precision: 0.8664 - val_recall: 0.9962\n",
            "Epoch 9/50\n",
            "17/17 [==============================] - 1s 64ms/step - loss: 0.1106 - acc: 0.9668 - precision: 0.9654 - recall: 0.9966 - val_loss: 0.3591 - val_acc: 0.8721 - val_precision: 0.8735 - val_recall: 0.9942\n",
            "Epoch 10/50\n",
            "17/17 [==============================] - 1s 64ms/step - loss: 0.0747 - acc: 0.9803 - precision: 0.9778 - recall: 0.9995 - val_loss: 0.3746 - val_acc: 0.8639 - val_precision: 0.8699 - val_recall: 0.9885\n",
            "Epoch 11/50\n",
            "17/17 [==============================] - 1s 65ms/step - loss: 0.0512 - acc: 0.9881 - precision: 0.9867 - recall: 0.9995 - val_loss: 0.3616 - val_acc: 0.8770 - val_precision: 0.8858 - val_recall: 0.9827\n",
            "Epoch 12/50\n",
            "17/17 [==============================] - 1s 62ms/step - loss: 0.0351 - acc: 0.9930 - precision: 0.9923 - recall: 0.9995 - val_loss: 0.3865 - val_acc: 0.8770 - val_precision: 0.8832 - val_recall: 0.9866\n",
            "Epoch 13/50\n",
            "17/17 [==============================] - 1s 63ms/step - loss: 0.0272 - acc: 0.9938 - precision: 0.9928 - recall: 1.0000 - val_loss: 0.3942 - val_acc: 0.8738 - val_precision: 0.8828 - val_recall: 0.9827\n",
            "Epoch 14/50\n",
            "17/17 [==============================] - 1s 64ms/step - loss: 0.0204 - acc: 0.9975 - precision: 0.9976 - recall: 0.9995 - val_loss: 0.4670 - val_acc: 0.8590 - val_precision: 0.8631 - val_recall: 0.9923\n",
            "Epoch 15/50\n",
            "17/17 [==============================] - 1s 65ms/step - loss: 0.0169 - acc: 0.9967 - precision: 0.9966 - recall: 0.9995 - val_loss: 0.4232 - val_acc: 0.8705 - val_precision: 0.8810 - val_recall: 0.9808\n",
            "Epoch 16/50\n",
            "17/17 [==============================] - 1s 66ms/step - loss: 0.0116 - acc: 0.9996 - precision: 0.9995 - recall: 1.0000 - val_loss: 0.4676 - val_acc: 0.8672 - val_precision: 0.8754 - val_recall: 0.9846\n",
            "Epoch 17/50\n",
            "17/17 [==============================] - 1s 65ms/step - loss: 0.0096 - acc: 1.0000 - precision: 1.0000 - recall: 1.0000 - val_loss: 0.4961 - val_acc: 0.8623 - val_precision: 0.8685 - val_recall: 0.9885\n",
            "Epoch 18/50\n",
            "17/17 [==============================] - 1s 68ms/step - loss: 0.0085 - acc: 0.9996 - precision: 0.9995 - recall: 1.0000 - val_loss: 0.4772 - val_acc: 0.8721 - val_precision: 0.8786 - val_recall: 0.9866\n",
            "Epoch 19/50\n",
            "17/17 [==============================] - 1s 64ms/step - loss: 0.0077 - acc: 0.9992 - precision: 0.9990 - recall: 1.0000 - val_loss: 0.4942 - val_acc: 0.8721 - val_precision: 0.8786 - val_recall: 0.9866\n",
            "Epoch 20/50\n",
            "17/17 [==============================] - 1s 66ms/step - loss: 0.0053 - acc: 1.0000 - precision: 1.0000 - recall: 1.0000 - val_loss: 0.4997 - val_acc: 0.8672 - val_precision: 0.8754 - val_recall: 0.9846\n",
            "Epoch 21/50\n",
            "17/17 [==============================] - 1s 64ms/step - loss: 0.0067 - acc: 0.9988 - precision: 0.9986 - recall: 1.0000 - val_loss: 0.5089 - val_acc: 0.8623 - val_precision: 0.8710 - val_recall: 0.9846\n",
            "Epoch 22/50\n",
            "17/17 [==============================] - 1s 64ms/step - loss: 0.0046 - acc: 1.0000 - precision: 1.0000 - recall: 1.0000 - val_loss: 0.5314 - val_acc: 0.8689 - val_precision: 0.8718 - val_recall: 0.9923\n",
            "Epoch 23/50\n",
            "17/17 [==============================] - 1s 64ms/step - loss: 0.0052 - acc: 0.9984 - precision: 0.9986 - recall: 0.9995 - val_loss: 0.4938 - val_acc: 0.8754 - val_precision: 0.8816 - val_recall: 0.9866\n",
            "Epoch 24/50\n",
            "17/17 [==============================] - 1s 65ms/step - loss: 0.0057 - acc: 0.9992 - precision: 0.9990 - recall: 1.0000 - val_loss: 0.4906 - val_acc: 0.8689 - val_precision: 0.8795 - val_recall: 0.9808\n",
            "Epoch 25/50\n",
            "17/17 [==============================] - 1s 73ms/step - loss: 0.0036 - acc: 0.9996 - precision: 0.9995 - recall: 1.0000 - val_loss: 0.5924 - val_acc: 0.8689 - val_precision: 0.8718 - val_recall: 0.9923\n",
            "Epoch 26/50\n",
            "17/17 [==============================] - 1s 88ms/step - loss: 0.0048 - acc: 0.9992 - precision: 0.9990 - recall: 1.0000 - val_loss: 0.5200 - val_acc: 0.8689 - val_precision: 0.8769 - val_recall: 0.9846\n",
            "Epoch 27/50\n",
            "17/17 [==============================] - 1s 67ms/step - loss: 0.0033 - acc: 0.9996 - precision: 0.9995 - recall: 1.0000 - val_loss: 0.5881 - val_acc: 0.8689 - val_precision: 0.8718 - val_recall: 0.9923\n",
            "Epoch 28/50\n",
            "17/17 [==============================] - 1s 63ms/step - loss: 0.0038 - acc: 0.9996 - precision: 0.9995 - recall: 1.0000 - val_loss: 0.5122 - val_acc: 0.8623 - val_precision: 0.8761 - val_recall: 0.9770\n",
            "Epoch 29/50\n",
            "17/17 [==============================] - 1s 68ms/step - loss: 0.0025 - acc: 1.0000 - precision: 1.0000 - recall: 1.0000 - val_loss: 0.5946 - val_acc: 0.8705 - val_precision: 0.8746 - val_recall: 0.9904\n",
            "Epoch 30/50\n",
            "17/17 [==============================] - 1s 64ms/step - loss: 0.0034 - acc: 0.9996 - precision: 0.9995 - recall: 1.0000 - val_loss: 0.5512 - val_acc: 0.8656 - val_precision: 0.8778 - val_recall: 0.9789\n",
            "Epoch 31/50\n",
            "17/17 [==============================] - 1s 65ms/step - loss: 0.0026 - acc: 1.0000 - precision: 1.0000 - recall: 1.0000 - val_loss: 0.5656 - val_acc: 0.8623 - val_precision: 0.8748 - val_recall: 0.9789\n",
            "Epoch 32/50\n",
            "17/17 [==============================] - 1s 65ms/step - loss: 0.0022 - acc: 1.0000 - precision: 1.0000 - recall: 1.0000 - val_loss: 0.5947 - val_acc: 0.8689 - val_precision: 0.8769 - val_recall: 0.9846\n",
            "Epoch 33/50\n",
            "17/17 [==============================] - 1s 63ms/step - loss: 0.0025 - acc: 0.9996 - precision: 0.9995 - recall: 1.0000 - val_loss: 0.6040 - val_acc: 0.8672 - val_precision: 0.8767 - val_recall: 0.9827\n",
            "Epoch 34/50\n",
            "17/17 [==============================] - 1s 64ms/step - loss: 0.0050 - acc: 0.9979 - precision: 0.9986 - recall: 0.9990 - val_loss: 0.5798 - val_acc: 0.8689 - val_precision: 0.8782 - val_recall: 0.9827\n",
            "Epoch 35/50\n",
            "17/17 [==============================] - 1s 64ms/step - loss: 0.0033 - acc: 0.9996 - precision: 0.9995 - recall: 1.0000 - val_loss: 0.5605 - val_acc: 0.8656 - val_precision: 0.8791 - val_recall: 0.9770\n",
            "Epoch 36/50\n",
            "17/17 [==============================] - 1s 63ms/step - loss: 0.0052 - acc: 0.9992 - precision: 0.9990 - recall: 1.0000 - val_loss: 0.5574 - val_acc: 0.8639 - val_precision: 0.8829 - val_recall: 0.9693\n",
            "Epoch 37/50\n",
            "17/17 [==============================] - 1s 65ms/step - loss: 0.0038 - acc: 0.9996 - precision: 0.9995 - recall: 1.0000 - val_loss: 0.6905 - val_acc: 0.8590 - val_precision: 0.8668 - val_recall: 0.9866\n",
            "Epoch 38/50\n",
            "17/17 [==============================] - 1s 65ms/step - loss: 0.0038 - acc: 1.0000 - precision: 1.0000 - recall: 1.0000 - val_loss: 0.5918 - val_acc: 0.8590 - val_precision: 0.8744 - val_recall: 0.9750\n",
            "Epoch 39/50\n",
            "17/17 [==============================] - 1s 64ms/step - loss: 0.0039 - acc: 0.9992 - precision: 0.9990 - recall: 1.0000 - val_loss: 0.6906 - val_acc: 0.8590 - val_precision: 0.8680 - val_recall: 0.9846\n",
            "Epoch 40/50\n",
            "17/17 [==============================] - 1s 64ms/step - loss: 0.0060 - acc: 0.9988 - precision: 0.9990 - recall: 0.9995 - val_loss: 0.5997 - val_acc: 0.8574 - val_precision: 0.8741 - val_recall: 0.9731\n",
            "Epoch 41/50\n",
            "17/17 [==============================] - 1s 64ms/step - loss: 0.0058 - acc: 0.9979 - precision: 0.9981 - recall: 0.9995 - val_loss: 0.5605 - val_acc: 0.8639 - val_precision: 0.8856 - val_recall: 0.9655\n",
            "Epoch 42/50\n",
            "17/17 [==============================] - 1s 63ms/step - loss: 0.0051 - acc: 0.9975 - precision: 0.9976 - recall: 0.9995 - val_loss: 0.6013 - val_acc: 0.8590 - val_precision: 0.8796 - val_recall: 0.9674\n",
            "Epoch 43/50\n",
            "17/17 [==============================] - 1s 67ms/step - loss: 0.0049 - acc: 0.9996 - precision: 0.9995 - recall: 1.0000 - val_loss: 0.6740 - val_acc: 0.8623 - val_precision: 0.8735 - val_recall: 0.9808\n",
            "Epoch 44/50\n",
            "17/17 [==============================] - 1s 69ms/step - loss: 0.0039 - acc: 0.9992 - precision: 0.9990 - recall: 1.0000 - val_loss: 0.6387 - val_acc: 0.8541 - val_precision: 0.8737 - val_recall: 0.9693\n",
            "Epoch 45/50\n",
            "17/17 [==============================] - 1s 65ms/step - loss: 0.0023 - acc: 1.0000 - precision: 1.0000 - recall: 1.0000 - val_loss: 0.6627 - val_acc: 0.8541 - val_precision: 0.8711 - val_recall: 0.9731\n",
            "Epoch 46/50\n",
            "17/17 [==============================] - 1s 65ms/step - loss: 0.0061 - acc: 0.9988 - precision: 0.9990 - recall: 0.9995 - val_loss: 0.6697 - val_acc: 0.8623 - val_precision: 0.8761 - val_recall: 0.9770\n",
            "Epoch 47/50\n",
            "17/17 [==============================] - 1s 64ms/step - loss: 0.0020 - acc: 1.0000 - precision: 1.0000 - recall: 1.0000 - val_loss: 0.7748 - val_acc: 0.8574 - val_precision: 0.8678 - val_recall: 0.9827\n",
            "Epoch 48/50\n",
            "17/17 [==============================] - 1s 64ms/step - loss: 0.0026 - acc: 0.9992 - precision: 0.9995 - recall: 0.9995 - val_loss: 0.7276 - val_acc: 0.8623 - val_precision: 0.8735 - val_recall: 0.9808\n",
            "Epoch 49/50\n",
            "17/17 [==============================] - 1s 65ms/step - loss: 0.0023 - acc: 0.9996 - precision: 0.9995 - recall: 1.0000 - val_loss: 0.7158 - val_acc: 0.8623 - val_precision: 0.8748 - val_recall: 0.9789\n",
            "Epoch 50/50\n",
            "17/17 [==============================] - 1s 63ms/step - loss: 0.0032 - acc: 0.9996 - precision: 1.0000 - recall: 0.9995 - val_loss: 0.7702 - val_acc: 0.8639 - val_precision: 0.8699 - val_recall: 0.9885\n",
            "Best epoch: 11\n"
          ]
        }
      ],
      "source": [
        "# Build the model with the optimal hyperparameters and train it on the data for 50 epochs\n",
        "history = model_tuned.fit(X_train, y_train, epochs=50, batch_size = 150, validation_split=0.2)\n",
        "\n",
        "val_acc_per_epoch = history.history['val_acc']\n",
        "best_epoch = val_acc_per_epoch.index(max(val_acc_per_epoch)) + 1\n",
        "print('Best epoch: %d' % (best_epoch,))"
      ]
    },
    {
      "cell_type": "markdown",
      "metadata": {
        "id": "g0GUYCcn-vxj"
      },
      "source": [
        "### Repetição do treino para uma quantidade ótima de épocas\n",
        "\n",
        "\n"
      ]
    },
    {
      "cell_type": "code",
      "execution_count": 28,
      "metadata": {
        "id": "1vHca8AlSIZF",
        "colab": {
          "base_uri": "https://localhost:8080/"
        },
        "outputId": "46503dbb-d92b-4d8b-b51f-ac7c0c117f2b"
      },
      "outputs": [
        {
          "output_type": "stream",
          "name": "stdout",
          "text": [
            "Epoch 1/11\n",
            "17/17 [==============================] - 3s 102ms/step - loss: 0.4746 - acc: 0.8503 - precision: 0.8506 - recall: 0.9995 - val_loss: 0.4248 - val_acc: 0.8541 - val_precision: 0.8541 - val_recall: 1.0000\n",
            "Epoch 2/11\n",
            "17/17 [==============================] - 1s 65ms/step - loss: 0.3805 - acc: 0.8507 - precision: 0.8507 - recall: 1.0000 - val_loss: 0.3838 - val_acc: 0.8541 - val_precision: 0.8541 - val_recall: 1.0000\n",
            "Epoch 3/11\n",
            "17/17 [==============================] - 1s 63ms/step - loss: 0.3060 - acc: 0.8687 - precision: 0.8663 - recall: 1.0000 - val_loss: 0.3484 - val_acc: 0.8541 - val_precision: 0.8553 - val_recall: 0.9981\n",
            "Epoch 4/11\n",
            "17/17 [==============================] - 1s 63ms/step - loss: 0.2184 - acc: 0.9151 - precision: 0.9114 - recall: 0.9971 - val_loss: 0.3425 - val_acc: 0.8656 - val_precision: 0.8652 - val_recall: 0.9981\n",
            "Epoch 5/11\n",
            "17/17 [==============================] - 1s 64ms/step - loss: 0.1430 - acc: 0.9573 - precision: 0.9527 - recall: 0.9995 - val_loss: 0.3578 - val_acc: 0.8607 - val_precision: 0.8633 - val_recall: 0.9942\n",
            "Epoch 6/11\n",
            "17/17 [==============================] - 1s 63ms/step - loss: 0.0884 - acc: 0.9762 - precision: 0.9741 - recall: 0.9986 - val_loss: 0.3874 - val_acc: 0.8607 - val_precision: 0.8645 - val_recall: 0.9923\n",
            "Epoch 7/11\n",
            "17/17 [==============================] - 1s 65ms/step - loss: 0.0531 - acc: 0.9885 - precision: 0.9871 - recall: 0.9995 - val_loss: 0.4410 - val_acc: 0.8590 - val_precision: 0.8607 - val_recall: 0.9962\n",
            "Epoch 8/11\n",
            "17/17 [==============================] - 1s 65ms/step - loss: 0.0334 - acc: 0.9938 - precision: 0.9942 - recall: 0.9986 - val_loss: 0.4021 - val_acc: 0.8623 - val_precision: 0.8722 - val_recall: 0.9827\n",
            "Epoch 9/11\n",
            "17/17 [==============================] - 1s 63ms/step - loss: 0.0247 - acc: 0.9955 - precision: 0.9957 - recall: 0.9990 - val_loss: 0.4314 - val_acc: 0.8672 - val_precision: 0.8754 - val_recall: 0.9846\n",
            "Epoch 10/11\n",
            "17/17 [==============================] - 1s 67ms/step - loss: 0.0196 - acc: 0.9967 - precision: 0.9962 - recall: 1.0000 - val_loss: 0.4145 - val_acc: 0.8656 - val_precision: 0.8765 - val_recall: 0.9808\n",
            "Epoch 11/11\n",
            "17/17 [==============================] - 1s 62ms/step - loss: 0.0147 - acc: 0.9984 - precision: 0.9981 - recall: 1.0000 - val_loss: 0.4657 - val_acc: 0.8590 - val_precision: 0.8693 - val_recall: 0.9827\n"
          ]
        },
        {
          "output_type": "execute_result",
          "data": {
            "text/plain": [
              "<keras.callbacks.History at 0x7f04f2aadc50>"
            ]
          },
          "metadata": {},
          "execution_count": 28
        }
      ],
      "source": [
        "hypermodel = tuner.hypermodel.build(best_hps)\n",
        "\n",
        "# Retrain the model\n",
        "hypermodel.fit(X_train, y_train, epochs=best_epoch, batch_size = 150, validation_split=0.2)"
      ]
    },
    {
      "cell_type": "markdown",
      "metadata": {
        "id": "LwG7KihK-3Tk"
      },
      "source": [
        "### Teste do modelo otimizado"
      ]
    },
    {
      "cell_type": "code",
      "execution_count": 29,
      "metadata": {
        "id": "KNw6mA7BSSRz",
        "colab": {
          "base_uri": "https://localhost:8080/"
        },
        "outputId": "9d6c5dee-8964-4c58-9295-22bccafaff50"
      },
      "outputs": [
        {
          "output_type": "stream",
          "name": "stdout",
          "text": [
            "24/24 [==============================] - 0s 11ms/step - loss: 0.4938 - acc: 0.8635 - precision: 0.8665 - recall: 0.9907\n"
          ]
        }
      ],
      "source": [
        "eval_result = hypermodel.evaluate(X_test, y_test)"
      ]
    },
    {
      "cell_type": "code",
      "execution_count": 30,
      "metadata": {
        "id": "OHPJvjJoSaHE",
        "colab": {
          "base_uri": "https://localhost:8080/"
        },
        "outputId": "51fd4049-34b9-44b2-bb98-ddd450a9ff10"
      },
      "outputs": [
        {
          "output_type": "stream",
          "name": "stdout",
          "text": [
            "F1-Score: 0.9244186073736061\n"
          ]
        }
      ],
      "source": [
        "precision = eval_result[2]\n",
        "recall = eval_result[3]\n",
        "f1_score = (2*recall*precision)/(recall+precision)\n",
        "print('F1-Score:', f1_score)"
      ]
    },
    {
      "cell_type": "markdown",
      "source": [
        "## Salvando as predições junto ao dataframe original"
      ],
      "metadata": {
        "id": "CHqj82kk9vMl"
      }
    },
    {
      "cell_type": "code",
      "source": [
        "y_pred = []\n",
        "for predict in hypermodel.predict(X_test):\n",
        "  if predict > 0.5:\n",
        "    y_pred.append(1)\n",
        "  else:\n",
        "    y_pred.append(0)"
      ],
      "metadata": {
        "id": "5fb2QZaX9-Zw"
      },
      "execution_count": 31,
      "outputs": []
    },
    {
      "cell_type": "code",
      "source": [
        "_, predict_df, _, _ = train_test_split(df, y, test_size=0.2, random_state=42)\n",
        "predict_df.insert(1, 'predict', y_pred)\n",
        "predict_df.to_csv('/content/drive/MyDrive/ProjetoFinal_ProcessText/predict_datasets/CNN_predict.csv')"
      ],
      "metadata": {
        "id": "Z4jVJk_3909X"
      },
      "execution_count": 32,
      "outputs": []
    }
  ],
  "metadata": {
    "accelerator": "GPU",
    "colab": {
      "collapsed_sections": [],
      "name": "CNN_classifier.ipynb",
      "provenance": []
    },
    "kernelspec": {
      "display_name": "Python 3",
      "name": "python3"
    },
    "language_info": {
      "name": "python"
    }
  },
  "nbformat": 4,
  "nbformat_minor": 0
}