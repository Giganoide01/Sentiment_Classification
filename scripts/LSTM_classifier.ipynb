{
  "nbformat": 4,
  "nbformat_minor": 0,
  "metadata": {
    "colab": {
      "name": "LSTM_classifier.ipynb",
      "provenance": [],
      "collapsed_sections": []
    },
    "kernelspec": {
      "name": "python3",
      "display_name": "Python 3"
    },
    "language_info": {
      "name": "python"
    },
    "accelerator": "GPU"
  },
  "cells": [
    {
      "cell_type": "markdown",
      "source": [
        "# Importação das bibliotecas"
      ],
      "metadata": {
        "id": "ztHDTWXOFezc"
      }
    },
    {
      "cell_type": "code",
      "source": [
        "!pip install -q -U keras-tuner"
      ],
      "metadata": {
        "id": "vnYRc_riahl2",
        "colab": {
          "base_uri": "https://localhost:8080/"
        },
        "outputId": "6a33a701-2bb7-4f5c-e444-31a86a55abd5"
      },
      "execution_count": 4,
      "outputs": [
        {
          "output_type": "stream",
          "name": "stdout",
          "text": [
            "\u001b[?25l\r\u001b[K     |██▌                             | 10 kB 26.2 MB/s eta 0:00:01\r\u001b[K     |█████                           | 20 kB 10.9 MB/s eta 0:00:01\r\u001b[K     |███████▍                        | 30 kB 9.0 MB/s eta 0:00:01\r\u001b[K     |█████████▉                      | 40 kB 8.4 MB/s eta 0:00:01\r\u001b[K     |████████████▎                   | 51 kB 4.7 MB/s eta 0:00:01\r\u001b[K     |██████████████▊                 | 61 kB 5.5 MB/s eta 0:00:01\r\u001b[K     |█████████████████▏              | 71 kB 5.6 MB/s eta 0:00:01\r\u001b[K     |███████████████████▋            | 81 kB 4.3 MB/s eta 0:00:01\r\u001b[K     |██████████████████████          | 92 kB 4.8 MB/s eta 0:00:01\r\u001b[K     |████████████████████████▌       | 102 kB 5.3 MB/s eta 0:00:01\r\u001b[K     |███████████████████████████     | 112 kB 5.3 MB/s eta 0:00:01\r\u001b[K     |█████████████████████████████▍  | 122 kB 5.3 MB/s eta 0:00:01\r\u001b[K     |███████████████████████████████▉| 133 kB 5.3 MB/s eta 0:00:01\r\u001b[K     |████████████████████████████████| 133 kB 5.3 MB/s \n",
            "\u001b[?25h"
          ]
        }
      ]
    },
    {
      "cell_type": "code",
      "execution_count": 5,
      "metadata": {
        "colab": {
          "base_uri": "https://localhost:8080/"
        },
        "id": "ARqtudkItWKg",
        "outputId": "27bebf39-3da7-4c79-f5ed-f48532bbf451"
      },
      "outputs": [
        {
          "output_type": "stream",
          "name": "stdout",
          "text": [
            "[nltk_data] Downloading package punkt to /root/nltk_data...\n",
            "[nltk_data]   Unzipping tokenizers/punkt.zip.\n"
          ]
        }
      ],
      "source": [
        "import zipfile\n",
        "\n",
        "import pandas as pd\n",
        "import numpy as np\n",
        "\n",
        "from matplotlib import pyplot as plt\n",
        "\n",
        "from gensim.models import Word2Vec\n",
        "import nltk\n",
        "from nltk.tokenize import word_tokenize\n",
        "nltk.download('punkt')\n",
        "\n",
        "from sklearn.model_selection import train_test_split\n",
        "from sklearn.preprocessing import LabelEncoder\n",
        "\n",
        "import tensorflow as tf\n",
        "from tensorflow import keras\n",
        "import keras_tuner as kt\n",
        "from tensorflow.keras import Sequential\n",
        "from tensorflow.keras.layers import SpatialDropout1D, LSTM, Dense, Embedding, Dropout\n",
        "from keras.callbacks import EarlyStopping\n",
        "from tensorflow.keras.preprocessing.text import Tokenizer\n",
        "from tensorflow.keras.preprocessing.sequence import pad_sequences"
      ]
    },
    {
      "cell_type": "code",
      "source": [
        "from google.colab import drive\n",
        "drive.mount('/content/drive')"
      ],
      "metadata": {
        "id": "IA1PC1nrF9ID",
        "colab": {
          "base_uri": "https://localhost:8080/"
        },
        "outputId": "d97ac73f-a25c-4230-bd09-93a5dd3c02cf"
      },
      "execution_count": 6,
      "outputs": [
        {
          "output_type": "stream",
          "name": "stdout",
          "text": [
            "Mounted at /content/drive\n"
          ]
        }
      ]
    },
    {
      "cell_type": "code",
      "source": [
        "tf.random.set_seed(42)"
      ],
      "metadata": {
        "id": "fwtF_MK7j9FJ"
      },
      "execution_count": 7,
      "outputs": []
    },
    {
      "cell_type": "markdown",
      "source": [
        "# Carregando o dataset"
      ],
      "metadata": {
        "id": "7qRINu-7Fiat"
      }
    },
    {
      "cell_type": "code",
      "source": [
        "df = pd.read_csv('/content/drive/MyDrive/ProjetoFinal_ProcessText/datasets/NoStem_StopwordKeep_dataset.csv')\n",
        "df"
      ],
      "metadata": {
        "id": "zdXVcxgfFmzU",
        "colab": {
          "base_uri": "https://localhost:8080/",
          "height": 424
        },
        "outputId": "0070127f-df6e-4571-c321-e1b122d7362a"
      },
      "execution_count": 8,
      "outputs": [
        {
          "output_type": "execute_result",
          "data": {
            "text/plain": [
              "     sent_rating                       processed_text_KeepStopwords  \\\n",
              "0       negativo  Bom em questão de som ela é realmente boa no e...   \n",
              "1       negativo  O produto não responde corretamente aos comand...   \n",
              "2       negativo  Quem compra uma caixa de som pensa normalmente...   \n",
              "3       negativo  A funcionalidade é muito boa Comprei as lâmpad...   \n",
              "4       positivo  Excelente assistente som muito bom e limpo a A...   \n",
              "...          ...                                                ...   \n",
              "3805    positivo  A mídia não pôde ser carregada Gostei de tudo ...   \n",
              "3806    positivo  Bom dia comprei a echo dot preta e o cabo da t...   \n",
              "3807    positivo  Amei a Alexa ela é incrível Porém fiquei chate...   \n",
              "3808    positivo  Atendeu minhas expectativas Reconhece voz ente...   \n",
              "3809    negativo  Tenho que falar muito alto para ela entender M...   \n",
              "\n",
              "                     data  \n",
              "0     2021-06-09 00:00:00  \n",
              "1     2020-11-26 00:00:00  \n",
              "2     2021-01-05 00:00:00  \n",
              "3     2021-06-16 00:00:00  \n",
              "4     2020-12-10 00:00:00  \n",
              "...                   ...  \n",
              "3805  2021-07-06 00:00:00  \n",
              "3806  2021-05-04 00:00:00  \n",
              "3807  2021-05-18 00:00:00  \n",
              "3808  2021-01-09 00:00:00  \n",
              "3809  2021-01-31 00:00:00  \n",
              "\n",
              "[3810 rows x 3 columns]"
            ],
            "text/html": [
              "\n",
              "  <div id=\"df-462d63bf-14b2-45d3-bd6f-b787dfd0d935\">\n",
              "    <div class=\"colab-df-container\">\n",
              "      <div>\n",
              "<style scoped>\n",
              "    .dataframe tbody tr th:only-of-type {\n",
              "        vertical-align: middle;\n",
              "    }\n",
              "\n",
              "    .dataframe tbody tr th {\n",
              "        vertical-align: top;\n",
              "    }\n",
              "\n",
              "    .dataframe thead th {\n",
              "        text-align: right;\n",
              "    }\n",
              "</style>\n",
              "<table border=\"1\" class=\"dataframe\">\n",
              "  <thead>\n",
              "    <tr style=\"text-align: right;\">\n",
              "      <th></th>\n",
              "      <th>sent_rating</th>\n",
              "      <th>processed_text_KeepStopwords</th>\n",
              "      <th>data</th>\n",
              "    </tr>\n",
              "  </thead>\n",
              "  <tbody>\n",
              "    <tr>\n",
              "      <th>0</th>\n",
              "      <td>negativo</td>\n",
              "      <td>Bom em questão de som ela é realmente boa no e...</td>\n",
              "      <td>2021-06-09 00:00:00</td>\n",
              "    </tr>\n",
              "    <tr>\n",
              "      <th>1</th>\n",
              "      <td>negativo</td>\n",
              "      <td>O produto não responde corretamente aos comand...</td>\n",
              "      <td>2020-11-26 00:00:00</td>\n",
              "    </tr>\n",
              "    <tr>\n",
              "      <th>2</th>\n",
              "      <td>negativo</td>\n",
              "      <td>Quem compra uma caixa de som pensa normalmente...</td>\n",
              "      <td>2021-01-05 00:00:00</td>\n",
              "    </tr>\n",
              "    <tr>\n",
              "      <th>3</th>\n",
              "      <td>negativo</td>\n",
              "      <td>A funcionalidade é muito boa Comprei as lâmpad...</td>\n",
              "      <td>2021-06-16 00:00:00</td>\n",
              "    </tr>\n",
              "    <tr>\n",
              "      <th>4</th>\n",
              "      <td>positivo</td>\n",
              "      <td>Excelente assistente som muito bom e limpo a A...</td>\n",
              "      <td>2020-12-10 00:00:00</td>\n",
              "    </tr>\n",
              "    <tr>\n",
              "      <th>...</th>\n",
              "      <td>...</td>\n",
              "      <td>...</td>\n",
              "      <td>...</td>\n",
              "    </tr>\n",
              "    <tr>\n",
              "      <th>3805</th>\n",
              "      <td>positivo</td>\n",
              "      <td>A mídia não pôde ser carregada Gostei de tudo ...</td>\n",
              "      <td>2021-07-06 00:00:00</td>\n",
              "    </tr>\n",
              "    <tr>\n",
              "      <th>3806</th>\n",
              "      <td>positivo</td>\n",
              "      <td>Bom dia comprei a echo dot preta e o cabo da t...</td>\n",
              "      <td>2021-05-04 00:00:00</td>\n",
              "    </tr>\n",
              "    <tr>\n",
              "      <th>3807</th>\n",
              "      <td>positivo</td>\n",
              "      <td>Amei a Alexa ela é incrível Porém fiquei chate...</td>\n",
              "      <td>2021-05-18 00:00:00</td>\n",
              "    </tr>\n",
              "    <tr>\n",
              "      <th>3808</th>\n",
              "      <td>positivo</td>\n",
              "      <td>Atendeu minhas expectativas Reconhece voz ente...</td>\n",
              "      <td>2021-01-09 00:00:00</td>\n",
              "    </tr>\n",
              "    <tr>\n",
              "      <th>3809</th>\n",
              "      <td>negativo</td>\n",
              "      <td>Tenho que falar muito alto para ela entender M...</td>\n",
              "      <td>2021-01-31 00:00:00</td>\n",
              "    </tr>\n",
              "  </tbody>\n",
              "</table>\n",
              "<p>3810 rows × 3 columns</p>\n",
              "</div>\n",
              "      <button class=\"colab-df-convert\" onclick=\"convertToInteractive('df-462d63bf-14b2-45d3-bd6f-b787dfd0d935')\"\n",
              "              title=\"Convert this dataframe to an interactive table.\"\n",
              "              style=\"display:none;\">\n",
              "        \n",
              "  <svg xmlns=\"http://www.w3.org/2000/svg\" height=\"24px\"viewBox=\"0 0 24 24\"\n",
              "       width=\"24px\">\n",
              "    <path d=\"M0 0h24v24H0V0z\" fill=\"none\"/>\n",
              "    <path d=\"M18.56 5.44l.94 2.06.94-2.06 2.06-.94-2.06-.94-.94-2.06-.94 2.06-2.06.94zm-11 1L8.5 8.5l.94-2.06 2.06-.94-2.06-.94L8.5 2.5l-.94 2.06-2.06.94zm10 10l.94 2.06.94-2.06 2.06-.94-2.06-.94-.94-2.06-.94 2.06-2.06.94z\"/><path d=\"M17.41 7.96l-1.37-1.37c-.4-.4-.92-.59-1.43-.59-.52 0-1.04.2-1.43.59L10.3 9.45l-7.72 7.72c-.78.78-.78 2.05 0 2.83L4 21.41c.39.39.9.59 1.41.59.51 0 1.02-.2 1.41-.59l7.78-7.78 2.81-2.81c.8-.78.8-2.07 0-2.86zM5.41 20L4 18.59l7.72-7.72 1.47 1.35L5.41 20z\"/>\n",
              "  </svg>\n",
              "      </button>\n",
              "      \n",
              "  <style>\n",
              "    .colab-df-container {\n",
              "      display:flex;\n",
              "      flex-wrap:wrap;\n",
              "      gap: 12px;\n",
              "    }\n",
              "\n",
              "    .colab-df-convert {\n",
              "      background-color: #E8F0FE;\n",
              "      border: none;\n",
              "      border-radius: 50%;\n",
              "      cursor: pointer;\n",
              "      display: none;\n",
              "      fill: #1967D2;\n",
              "      height: 32px;\n",
              "      padding: 0 0 0 0;\n",
              "      width: 32px;\n",
              "    }\n",
              "\n",
              "    .colab-df-convert:hover {\n",
              "      background-color: #E2EBFA;\n",
              "      box-shadow: 0px 1px 2px rgba(60, 64, 67, 0.3), 0px 1px 3px 1px rgba(60, 64, 67, 0.15);\n",
              "      fill: #174EA6;\n",
              "    }\n",
              "\n",
              "    [theme=dark] .colab-df-convert {\n",
              "      background-color: #3B4455;\n",
              "      fill: #D2E3FC;\n",
              "    }\n",
              "\n",
              "    [theme=dark] .colab-df-convert:hover {\n",
              "      background-color: #434B5C;\n",
              "      box-shadow: 0px 1px 3px 1px rgba(0, 0, 0, 0.15);\n",
              "      filter: drop-shadow(0px 1px 2px rgba(0, 0, 0, 0.3));\n",
              "      fill: #FFFFFF;\n",
              "    }\n",
              "  </style>\n",
              "\n",
              "      <script>\n",
              "        const buttonEl =\n",
              "          document.querySelector('#df-462d63bf-14b2-45d3-bd6f-b787dfd0d935 button.colab-df-convert');\n",
              "        buttonEl.style.display =\n",
              "          google.colab.kernel.accessAllowed ? 'block' : 'none';\n",
              "\n",
              "        async function convertToInteractive(key) {\n",
              "          const element = document.querySelector('#df-462d63bf-14b2-45d3-bd6f-b787dfd0d935');\n",
              "          const dataTable =\n",
              "            await google.colab.kernel.invokeFunction('convertToInteractive',\n",
              "                                                     [key], {});\n",
              "          if (!dataTable) return;\n",
              "\n",
              "          const docLinkHtml = 'Like what you see? Visit the ' +\n",
              "            '<a target=\"_blank\" href=https://colab.research.google.com/notebooks/data_table.ipynb>data table notebook</a>'\n",
              "            + ' to learn more about interactive tables.';\n",
              "          element.innerHTML = '';\n",
              "          dataTable['output_type'] = 'display_data';\n",
              "          await google.colab.output.renderOutput(dataTable, element);\n",
              "          const docLink = document.createElement('div');\n",
              "          docLink.innerHTML = docLinkHtml;\n",
              "          element.appendChild(docLink);\n",
              "        }\n",
              "      </script>\n",
              "    </div>\n",
              "  </div>\n",
              "  "
            ]
          },
          "metadata": {},
          "execution_count": 8
        }
      ]
    },
    {
      "cell_type": "markdown",
      "source": [
        "# Processamento dos dados"
      ],
      "metadata": {
        "id": "PUyGGy_3GWXU"
      }
    },
    {
      "cell_type": "markdown",
      "source": [
        "## Codificando os textos\n",
        "\n",
        "Para posterior construção da camada de embedding\n",
        "\n"
      ],
      "metadata": {
        "id": "6hkJR5pgIkox"
      }
    },
    {
      "cell_type": "code",
      "source": [
        "df['processed_text_KeepStopwords'] = df['processed_text_KeepStopwords'].apply(lambda x: x.lower())"
      ],
      "metadata": {
        "id": "SH24mKGnalZm"
      },
      "execution_count": 9,
      "outputs": []
    },
    {
      "cell_type": "code",
      "source": [
        "reviews = df['processed_text_KeepStopwords'].values\n",
        "\n",
        "tokenizer = Tokenizer(num_words=5000)\n",
        "tokenizer.fit_on_texts(reviews)\n",
        "vocab_size = len(tokenizer.word_index) + 1\n",
        "encoded_docs = tokenizer.texts_to_sequences(reviews)\n",
        "X = pad_sequences(encoded_docs, maxlen=100)\n",
        "X.shape"
      ],
      "metadata": {
        "id": "o32OTw0ioYZV",
        "colab": {
          "base_uri": "https://localhost:8080/"
        },
        "outputId": "40aa8342-cf9e-4f3a-9bb9-02590736083f"
      },
      "execution_count": 10,
      "outputs": [
        {
          "output_type": "execute_result",
          "data": {
            "text/plain": [
              "(3810, 100)"
            ]
          },
          "metadata": {},
          "execution_count": 10
        }
      ]
    },
    {
      "cell_type": "markdown",
      "source": [
        "\n",
        "## Pegando os pesos das palavras a partir do Word2Vec\n",
        "\n",
        "Para posterior atribuição aos pesos da camada de embedding"
      ],
      "metadata": {
        "id": "rjXUI3q5ZexU"
      }
    },
    {
      "cell_type": "code",
      "source": [
        "# Download do Word2Vec CBOW de 100 vetores do repositório do NILC - USP\n",
        "!wget --no-check-certificate \\\n",
        "http://143.107.183.175:22980/download.php?file=embeddings/word2vec/cbow_s100.zip \\\n",
        "-O /tmp/cbow_s100.zip"
      ],
      "metadata": {
        "colab": {
          "base_uri": "https://localhost:8080/"
        },
        "id": "zbDqOkKea32P",
        "outputId": "8495d6b8-7bed-4ed0-ac78-ade7d03692ba"
      },
      "execution_count": 3,
      "outputs": [
        {
          "output_type": "stream",
          "name": "stdout",
          "text": [
            "--2022-04-04 02:23:07--  http://143.107.183.175:22980/download.php?file=embeddings/word2vec/cbow_s100.zip\n",
            "Connecting to 143.107.183.175:22980... connected.\n",
            "HTTP request sent, awaiting response... 200 OK\n",
            "Length: 326003567 (311M) [application/octet-stream]\n",
            "Saving to: ‘/tmp/cbow_s100.zip’\n",
            "\n",
            "/tmp/cbow_s100.zip  100%[===================>] 310.90M  8.20MB/s    in 46s     \n",
            "\n",
            "2022-04-04 02:23:53 (6.78 MB/s) - ‘/tmp/cbow_s100.zip’ saved [326003567/326003567]\n",
            "\n"
          ]
        }
      ]
    },
    {
      "cell_type": "code",
      "source": [
        "# Extração do arquivo .zip\n",
        "with zipfile.ZipFile('/tmp/cbow_s100.zip', 'r') as zip_ref:\n",
        "    zip_ref.extractall('/tmp/cbow')"
      ],
      "metadata": {
        "id": "UO39S6OYbTo3"
      },
      "execution_count": 11,
      "outputs": []
    },
    {
      "cell_type": "code",
      "source": [
        "# Lendo o embedding\n",
        "embeddings_index = {}\n",
        "f = open('/tmp/cbow/cbow_s100.txt')\n",
        "for line in f:\n",
        "    values = line.split()\n",
        "    word = values[0]\n",
        "    if len(values[1:]) > 100:\n",
        "      coefs = np.asarray(values[2:], dtype='float32')\n",
        "      embeddings_index[word] = coefs\n",
        "    else:\n",
        "      coefs = np.asarray(values[1:], dtype='float32')\n",
        "      embeddings_index[word] = coefs\n",
        "f.close()\n",
        "\n",
        "print('Found %s word vectors.' % len(embeddings_index))"
      ],
      "metadata": {
        "colab": {
          "base_uri": "https://localhost:8080/"
        },
        "id": "PfA8B9PEbahz",
        "outputId": "56289935-5f50-486e-dd71-231cbeda4ef6"
      },
      "execution_count": 12,
      "outputs": [
        {
          "output_type": "stream",
          "name": "stdout",
          "text": [
            "Found 929595 word vectors.\n"
          ]
        }
      ]
    },
    {
      "cell_type": "code",
      "source": [
        "# Extraindo nossas palavras a partir das presentes no embedding\n",
        "embedding_matrix = np.zeros((vocab_size + 1, 100))\n",
        "for word, i in tokenizer.word_index.items():\n",
        "    embedding_vector = embeddings_index.get(word)\n",
        "    if embedding_vector is not None:\n",
        "        # words not found in embedding index will be all-zeros.\n",
        "        embedding_matrix[i] = embedding_vector"
      ],
      "metadata": {
        "id": "NlevLs4TbmId"
      },
      "execution_count": 13,
      "outputs": []
    },
    {
      "cell_type": "code",
      "source": [
        "embedding_matrix.shape"
      ],
      "metadata": {
        "colab": {
          "base_uri": "https://localhost:8080/"
        },
        "id": "X4423eCLcluY",
        "outputId": "ca347150-98dc-4882-96d2-623c9ed74f2d"
      },
      "execution_count": 14,
      "outputs": [
        {
          "output_type": "execute_result",
          "data": {
            "text/plain": [
              "(7895, 100)"
            ]
          },
          "metadata": {},
          "execution_count": 14
        }
      ]
    },
    {
      "cell_type": "markdown",
      "source": [
        "## Label encoding de y"
      ],
      "metadata": {
        "id": "cEx41ojyokSp"
      }
    },
    {
      "cell_type": "code",
      "source": [
        "y = df['sent_rating']\n",
        "print(np.unique(y))\n",
        "y = LabelEncoder().fit_transform(y)\n",
        "np.unique(y)"
      ],
      "metadata": {
        "id": "BiJB8qZlojMH",
        "colab": {
          "base_uri": "https://localhost:8080/"
        },
        "outputId": "027dd8c9-2909-449c-b584-8938c25121c6"
      },
      "execution_count": 15,
      "outputs": [
        {
          "output_type": "stream",
          "name": "stdout",
          "text": [
            "['negativo' 'positivo']\n"
          ]
        },
        {
          "output_type": "execute_result",
          "data": {
            "text/plain": [
              "array([0, 1])"
            ]
          },
          "metadata": {},
          "execution_count": 15
        }
      ]
    },
    {
      "cell_type": "markdown",
      "source": [
        "## Divisão em Treino e teste"
      ],
      "metadata": {
        "id": "VvRVuLhLoplH"
      }
    },
    {
      "cell_type": "code",
      "source": [
        "X_train, X_test, y_train, y_test = train_test_split(X, y, test_size=0.20, random_state=42)"
      ],
      "metadata": {
        "id": "zq9nzazymOuW"
      },
      "execution_count": 16,
      "outputs": []
    },
    {
      "cell_type": "code",
      "source": [
        "print(X_train.shape, X_test.shape)"
      ],
      "metadata": {
        "id": "dYH1IndE86S2",
        "colab": {
          "base_uri": "https://localhost:8080/"
        },
        "outputId": "652a0bf8-df11-4c31-dafe-691276a23170"
      },
      "execution_count": 17,
      "outputs": [
        {
          "output_type": "stream",
          "name": "stdout",
          "text": [
            "(3048, 100) (762, 100)\n"
          ]
        }
      ]
    },
    {
      "cell_type": "markdown",
      "source": [
        "# Construção dos modelos"
      ],
      "metadata": {
        "id": "p4054gEcOI00"
      }
    },
    {
      "cell_type": "markdown",
      "source": [
        "## Inicializando o modelo base"
      ],
      "metadata": {
        "id": "N8qH4-2OczHl"
      }
    },
    {
      "cell_type": "code",
      "source": [
        "model_base = Sequential()\n",
        "\n",
        "model_base.add(Embedding(input_dim=vocab_size + 1, \n",
        "                         output_dim=100,\n",
        "                         weights=[embedding_matrix],\n",
        "                         input_length = 100,\n",
        "                         mask_zero=True))\n",
        "\n",
        "model_base.add(LSTM(100,input_shape=(100,),activation='tanh',))\n",
        "model_base.add(Dense(10, activation='relu'))\n",
        "model_base.add(Dropout(0.3))\n",
        "\n",
        "model_base.add(Dense(1, activation='sigmoid'))\n",
        "model_base.summary()"
      ],
      "metadata": {
        "id": "eC_nUnQItLo6",
        "colab": {
          "base_uri": "https://localhost:8080/"
        },
        "outputId": "38377605-1876-491c-ddfa-8046b129e744"
      },
      "execution_count": 18,
      "outputs": [
        {
          "output_type": "stream",
          "name": "stdout",
          "text": [
            "Model: \"sequential\"\n",
            "_________________________________________________________________\n",
            " Layer (type)                Output Shape              Param #   \n",
            "=================================================================\n",
            " embedding (Embedding)       (None, 100, 100)          789500    \n",
            "                                                                 \n",
            " lstm (LSTM)                 (None, 100)               80400     \n",
            "                                                                 \n",
            " dense (Dense)               (None, 10)                1010      \n",
            "                                                                 \n",
            " dropout (Dropout)           (None, 10)                0         \n",
            "                                                                 \n",
            " dense_1 (Dense)             (None, 1)                 11        \n",
            "                                                                 \n",
            "=================================================================\n",
            "Total params: 870,921\n",
            "Trainable params: 870,921\n",
            "Non-trainable params: 0\n",
            "_________________________________________________________________\n"
          ]
        }
      ]
    },
    {
      "cell_type": "markdown",
      "source": [
        "## Compilando o modelo"
      ],
      "metadata": {
        "id": "K8XfboOD0uoS"
      }
    },
    {
      "cell_type": "code",
      "source": [
        "metrics = ['acc','Precision','Recall']\n",
        "\n",
        "model_base.compile(\n",
        " optimizer = \"adam\",\n",
        " loss = \"binary_crossentropy\",\n",
        " metrics = metrics\n",
        ")"
      ],
      "metadata": {
        "id": "KFkMYYNYSC1V"
      },
      "execution_count": 19,
      "outputs": []
    },
    {
      "cell_type": "markdown",
      "source": [
        "## Treinando o modelo base"
      ],
      "metadata": {
        "id": "TMnqfcaw0vuq"
      }
    },
    {
      "cell_type": "code",
      "source": [
        "es = EarlyStopping(monitor='val_loss', mode='auto', patience = 2, verbose=1)\n",
        "\n",
        "results = model_base.fit(\n",
        " X_train, y_train,\n",
        " epochs= 50,\n",
        " batch_size = 200,\n",
        " validation_split=0.2,\n",
        " callbacks = [es]\n",
        ")"
      ],
      "metadata": {
        "id": "3CdUYP2tSGbq",
        "colab": {
          "base_uri": "https://localhost:8080/"
        },
        "outputId": "7f2cae47-1140-4a35-bd03-201d22cb3cb8"
      },
      "execution_count": 20,
      "outputs": [
        {
          "output_type": "stream",
          "name": "stdout",
          "text": [
            "Epoch 1/50\n",
            "13/13 [==============================] - 18s 689ms/step - loss: 0.5532 - acc: 0.8236 - precision: 0.8537 - recall: 0.9566 - val_loss: 0.4279 - val_acc: 0.8541 - val_precision: 0.8541 - val_recall: 1.0000\n",
            "Epoch 2/50\n",
            "13/13 [==============================] - 6s 458ms/step - loss: 0.4459 - acc: 0.8507 - precision: 0.8507 - recall: 1.0000 - val_loss: 0.4090 - val_acc: 0.8541 - val_precision: 0.8541 - val_recall: 1.0000\n",
            "Epoch 3/50\n",
            "13/13 [==============================] - 6s 453ms/step - loss: 0.4028 - acc: 0.8507 - precision: 0.8507 - recall: 1.0000 - val_loss: 0.3904 - val_acc: 0.8541 - val_precision: 0.8541 - val_recall: 1.0000\n",
            "Epoch 4/50\n",
            "13/13 [==============================] - 6s 447ms/step - loss: 0.3640 - acc: 0.8507 - precision: 0.8519 - recall: 0.9981 - val_loss: 0.3663 - val_acc: 0.8508 - val_precision: 0.8632 - val_recall: 0.9808\n",
            "Epoch 5/50\n",
            "13/13 [==============================] - 6s 453ms/step - loss: 0.3019 - acc: 0.8757 - precision: 0.8862 - recall: 0.9797 - val_loss: 0.3388 - val_acc: 0.8623 - val_precision: 0.8722 - val_recall: 0.9827\n",
            "Epoch 6/50\n",
            "13/13 [==============================] - 6s 454ms/step - loss: 0.2497 - acc: 0.9114 - precision: 0.9196 - recall: 0.9817 - val_loss: 0.3320 - val_acc: 0.8246 - val_precision: 0.9027 - val_recall: 0.8906\n",
            "Epoch 7/50\n",
            "13/13 [==============================] - 6s 447ms/step - loss: 0.2276 - acc: 0.9073 - precision: 0.9278 - recall: 0.9662 - val_loss: 0.3561 - val_acc: 0.8590 - val_precision: 0.8796 - val_recall: 0.9674\n",
            "Epoch 8/50\n",
            "13/13 [==============================] - 7s 548ms/step - loss: 0.1806 - acc: 0.9413 - precision: 0.9565 - recall: 0.9754 - val_loss: 0.3593 - val_acc: 0.8672 - val_precision: 0.9015 - val_recall: 0.9482\n",
            "Epoch 8: early stopping\n"
          ]
        }
      ]
    },
    {
      "cell_type": "markdown",
      "source": [
        "## Teste do modelo base"
      ],
      "metadata": {
        "id": "IdoBS_sd04Q6"
      }
    },
    {
      "cell_type": "code",
      "source": [
        "test_result = model_base.evaluate(X_test,  y_test, verbose=2)"
      ],
      "metadata": {
        "colab": {
          "base_uri": "https://localhost:8080/"
        },
        "id": "Z4OIT5hScSEF",
        "outputId": "6c073cf8-40fe-4874-c9c3-6235202fb838"
      },
      "execution_count": 21,
      "outputs": [
        {
          "output_type": "stream",
          "name": "stdout",
          "text": [
            "24/24 - 1s - loss: 0.3484 - acc: 0.8727 - precision: 0.8955 - recall: 0.9611 - 647ms/epoch - 27ms/step\n"
          ]
        }
      ]
    },
    {
      "cell_type": "code",
      "source": [
        "precision = test_result[2]\n",
        "recall = test_result[3]\n",
        "f1_score = (2*recall*precision)/(recall+precision)\n",
        "print('F1-Score:', f1_score)"
      ],
      "metadata": {
        "colab": {
          "base_uri": "https://localhost:8080/"
        },
        "id": "BK8ydcKAvsvw",
        "outputId": "7f7410cf-2c2c-4eef-a8f8-367384873782"
      },
      "execution_count": 22,
      "outputs": [
        {
          "output_type": "stream",
          "name": "stdout",
          "text": [
            "F1-Score: 0.9271224715616889\n"
          ]
        }
      ]
    },
    {
      "cell_type": "markdown",
      "source": [
        "## Otimização"
      ],
      "metadata": {
        "id": "3Ky8ybyJ09Pd"
      }
    },
    {
      "cell_type": "markdown",
      "source": [
        "### Inicializando função de otimização do modelo"
      ],
      "metadata": {
        "id": "XMN3z_4q0-Ml"
      }
    },
    {
      "cell_type": "code",
      "source": [
        "def model_builder(hp):\n",
        "  model_new = Sequential()\n",
        "\n",
        "  model_new.add(Embedding(input_dim=vocab_size + 1, \n",
        "                          output_dim=100,\n",
        "                          weights=[embedding_matrix],\n",
        "                          input_length = 100,\n",
        "                          mask_zero=True))\n",
        "  \n",
        "  hp_units1 = hp.Int('units', min_value=5, max_value=155, step=5)\n",
        "  model_new.add(LSTM(hp_units1,input_shape=(100,),activation='tanh',))\n",
        "\n",
        "  hp_units2 = hp.Int('units2', min_value=5, max_value=100, step=5)\n",
        "  model_new.add(Dense(hp_units2, activation='relu'))\n",
        "\n",
        "  hp_units3 = hp.Float('units3', min_value=0.1, max_value=0.9, step=0.1)\n",
        "  model_new.add(Dropout(hp_units3))\n",
        "\n",
        "  model_new.add(Dense(1, activation='sigmoid'))\n",
        "\n",
        "  hp_learning_rate = hp.Choice('learning_rate', values=[1e-2, 1e-3, 1e-4,1e-5])\n",
        "\n",
        "  model_new.compile(\n",
        "      optimizer = keras.optimizers.Adam(learning_rate=hp_learning_rate),\n",
        "      loss = \"binary_crossentropy\",\n",
        "      metrics = metrics\n",
        "      )\n",
        "\n",
        "  return model_new"
      ],
      "metadata": {
        "id": "0hOOtM26-hJO"
      },
      "execution_count": 23,
      "outputs": []
    },
    {
      "cell_type": "markdown",
      "source": [
        "### Inicializando o otimizador"
      ],
      "metadata": {
        "id": "xI10gc-m1A6h"
      }
    },
    {
      "cell_type": "code",
      "source": [
        "tuner = kt.Hyperband(model_builder,\n",
        "                     objective=kt.Objective(\"val_acc\", direction=\"max\"),\n",
        "                     max_epochs=10,\n",
        "                     factor=3,\n",
        "                     directory='/content/drive/MyDrive/ProjetoFinal_ProcessText/',\n",
        "                     project_name='tune_LSTM_8')"
      ],
      "metadata": {
        "id": "3m9VdTGhHzqP"
      },
      "execution_count": 24,
      "outputs": []
    },
    {
      "cell_type": "code",
      "source": [
        "stop_early = EarlyStopping(monitor='val_loss', mode='auto', patience = 2)"
      ],
      "metadata": {
        "id": "oWvHypNuILHs"
      },
      "execution_count": 25,
      "outputs": []
    },
    {
      "cell_type": "markdown",
      "source": [
        "### Busca pelo modelo otimizado"
      ],
      "metadata": {
        "id": "NWUghWc81JNt"
      }
    },
    {
      "cell_type": "code",
      "source": [
        "tuner.search(X_train, y_train, epochs=50,  batch_size = 200, validation_split=0.2, callbacks=[stop_early])\n",
        "\n",
        "# Get the optimal hyperparameters\n",
        "best_hps=tuner.get_best_hyperparameters(num_trials=1)[0]"
      ],
      "metadata": {
        "colab": {
          "base_uri": "https://localhost:8080/"
        },
        "id": "G4YYxbdpIVAw",
        "outputId": "d731e463-b598-43ea-ec97-7a46705285af"
      },
      "execution_count": 26,
      "outputs": [
        {
          "output_type": "stream",
          "name": "stdout",
          "text": [
            "Trial 30 Complete [00h 01m 29s]\n",
            "val_acc: 0.854098379611969\n",
            "\n",
            "Best val_acc So Far: 0.8622950911521912\n",
            "Total elapsed time: 00h 17m 02s\n",
            "INFO:tensorflow:Oracle triggered exit\n"
          ]
        }
      ]
    },
    {
      "cell_type": "markdown",
      "source": [
        "### Treino do modelo otimizado"
      ],
      "metadata": {
        "id": "XLm4SNUK1L_q"
      }
    },
    {
      "cell_type": "code",
      "source": [
        "model_tuned = tuner.hypermodel.build(best_hps)\n",
        "model_tuned.summary()"
      ],
      "metadata": {
        "colab": {
          "base_uri": "https://localhost:8080/"
        },
        "id": "sWAmeYrIQZio",
        "outputId": "cc5dff2f-8012-473f-e177-2e47a7b381b7"
      },
      "execution_count": 29,
      "outputs": [
        {
          "output_type": "stream",
          "name": "stdout",
          "text": [
            "Model: \"sequential_2\"\n",
            "_________________________________________________________________\n",
            " Layer (type)                Output Shape              Param #   \n",
            "=================================================================\n",
            " embedding_2 (Embedding)     (None, 100, 100)          789500    \n",
            "                                                                 \n",
            " lstm_2 (LSTM)               (None, 55)                34320     \n",
            "                                                                 \n",
            " dense_4 (Dense)             (None, 75)                4200      \n",
            "                                                                 \n",
            " dropout_2 (Dropout)         (None, 75)                0         \n",
            "                                                                 \n",
            " dense_5 (Dense)             (None, 1)                 76        \n",
            "                                                                 \n",
            "=================================================================\n",
            "Total params: 828,096\n",
            "Trainable params: 828,096\n",
            "Non-trainable params: 0\n",
            "_________________________________________________________________\n"
          ]
        }
      ]
    },
    {
      "cell_type": "code",
      "source": [
        "# Build the model with the optimal hyperparameters and train it on the data for 50 epochs\n",
        "history = model_tuned.fit(X_train, y_train, batch_size = 200, epochs=50, validation_split=0.2)\n",
        "\n",
        "val_acc_per_epoch = history.history['val_acc']\n",
        "best_epoch = val_acc_per_epoch.index(max(val_acc_per_epoch)) + 1\n",
        "print('Best epoch: %d' % (best_epoch,))"
      ],
      "metadata": {
        "id": "fCYi1bIgRtR2",
        "colab": {
          "base_uri": "https://localhost:8080/"
        },
        "outputId": "87113627-2761-444a-e645-8d5f1f0a025c"
      },
      "execution_count": 30,
      "outputs": [
        {
          "output_type": "stream",
          "name": "stdout",
          "text": [
            "Epoch 1/50\n",
            "13/13 [==============================] - 15s 657ms/step - loss: 0.6255 - acc: 0.7408 - precision: 0.8503 - recall: 0.8438 - val_loss: 0.4641 - val_acc: 0.8541 - val_precision: 0.8541 - val_recall: 1.0000\n",
            "Epoch 2/50\n",
            "13/13 [==============================] - 6s 471ms/step - loss: 0.4423 - acc: 0.8507 - precision: 0.8507 - recall: 1.0000 - val_loss: 0.4140 - val_acc: 0.8541 - val_precision: 0.8541 - val_recall: 1.0000\n",
            "Epoch 3/50\n",
            "13/13 [==============================] - 6s 465ms/step - loss: 0.4049 - acc: 0.8507 - precision: 0.8507 - recall: 1.0000 - val_loss: 0.3979 - val_acc: 0.8541 - val_precision: 0.8541 - val_recall: 1.0000\n",
            "Epoch 4/50\n",
            "13/13 [==============================] - 7s 539ms/step - loss: 0.3711 - acc: 0.8507 - precision: 0.8507 - recall: 1.0000 - val_loss: 0.3755 - val_acc: 0.8541 - val_precision: 0.8541 - val_recall: 1.0000\n",
            "Epoch 5/50\n",
            "13/13 [==============================] - 6s 468ms/step - loss: 0.3051 - acc: 0.8589 - precision: 0.8598 - recall: 0.9966 - val_loss: 0.3679 - val_acc: 0.8590 - val_precision: 0.8668 - val_recall: 0.9866\n",
            "Epoch 6/50\n",
            "13/13 [==============================] - 6s 498ms/step - loss: 0.2539 - acc: 0.8942 - precision: 0.9097 - recall: 0.9720 - val_loss: 0.3332 - val_acc: 0.8541 - val_precision: 0.8985 - val_recall: 0.9347\n",
            "Epoch 7/50\n",
            "13/13 [==============================] - 6s 465ms/step - loss: 0.2100 - acc: 0.9151 - precision: 0.9348 - recall: 0.9677 - val_loss: 0.3681 - val_acc: 0.8803 - val_precision: 0.8944 - val_recall: 0.9750\n",
            "Epoch 8/50\n",
            "13/13 [==============================] - 6s 470ms/step - loss: 0.1851 - acc: 0.9295 - precision: 0.9499 - recall: 0.9682 - val_loss: 0.4144 - val_acc: 0.8738 - val_precision: 0.8828 - val_recall: 0.9827\n",
            "Epoch 9/50\n",
            "13/13 [==============================] - 6s 483ms/step - loss: 0.1536 - acc: 0.9483 - precision: 0.9692 - recall: 0.9701 - val_loss: 0.4040 - val_acc: 0.8836 - val_precision: 0.8906 - val_recall: 0.9846\n",
            "Epoch 10/50\n",
            "13/13 [==============================] - 6s 479ms/step - loss: 0.0971 - acc: 0.9696 - precision: 0.9812 - recall: 0.9831 - val_loss: 0.4098 - val_acc: 0.8869 - val_precision: 0.9094 - val_recall: 0.9635\n",
            "Epoch 11/50\n",
            "13/13 [==============================] - 6s 495ms/step - loss: 0.0743 - acc: 0.9779 - precision: 0.9870 - recall: 0.9870 - val_loss: 0.4233 - val_acc: 0.8836 - val_precision: 0.9032 - val_recall: 0.9674\n",
            "Epoch 12/50\n",
            "13/13 [==============================] - 6s 483ms/step - loss: 0.0449 - acc: 0.9893 - precision: 0.9942 - recall: 0.9932 - val_loss: 0.4662 - val_acc: 0.8852 - val_precision: 0.9247 - val_recall: 0.9424\n",
            "Epoch 13/50\n",
            "13/13 [==============================] - 6s 460ms/step - loss: 0.0297 - acc: 0.9930 - precision: 0.9971 - recall: 0.9947 - val_loss: 0.5181 - val_acc: 0.8803 - val_precision: 0.9073 - val_recall: 0.9578\n",
            "Epoch 14/50\n",
            "13/13 [==============================] - 6s 472ms/step - loss: 0.0186 - acc: 0.9955 - precision: 0.9976 - recall: 0.9971 - val_loss: 0.5395 - val_acc: 0.8902 - val_precision: 0.9142 - val_recall: 0.9616\n",
            "Epoch 15/50\n",
            "13/13 [==============================] - 6s 478ms/step - loss: 0.0156 - acc: 0.9971 - precision: 0.9981 - recall: 0.9986 - val_loss: 0.5407 - val_acc: 0.8902 - val_precision: 0.9142 - val_recall: 0.9616\n",
            "Epoch 16/50\n",
            "13/13 [==============================] - 6s 474ms/step - loss: 0.0110 - acc: 0.9979 - precision: 0.9990 - recall: 0.9986 - val_loss: 0.6018 - val_acc: 0.8918 - val_precision: 0.9174 - val_recall: 0.9597\n",
            "Epoch 17/50\n",
            "13/13 [==============================] - 6s 484ms/step - loss: 0.0066 - acc: 0.9992 - precision: 0.9990 - recall: 1.0000 - val_loss: 0.5803 - val_acc: 0.8738 - val_precision: 0.9253 - val_recall: 0.9271\n",
            "Epoch 18/50\n",
            "13/13 [==============================] - 6s 477ms/step - loss: 0.0036 - acc: 1.0000 - precision: 1.0000 - recall: 1.0000 - val_loss: 0.6871 - val_acc: 0.8803 - val_precision: 0.9118 - val_recall: 0.9520\n",
            "Epoch 19/50\n",
            "13/13 [==============================] - 6s 477ms/step - loss: 0.0025 - acc: 1.0000 - precision: 1.0000 - recall: 1.0000 - val_loss: 0.6964 - val_acc: 0.8820 - val_precision: 0.9196 - val_recall: 0.9443\n",
            "Epoch 20/50\n",
            "13/13 [==============================] - 6s 471ms/step - loss: 0.0021 - acc: 1.0000 - precision: 1.0000 - recall: 1.0000 - val_loss: 0.7369 - val_acc: 0.8803 - val_precision: 0.9164 - val_recall: 0.9463\n",
            "Epoch 21/50\n",
            "13/13 [==============================] - 6s 468ms/step - loss: 0.0017 - acc: 1.0000 - precision: 1.0000 - recall: 1.0000 - val_loss: 0.7660 - val_acc: 0.8820 - val_precision: 0.9165 - val_recall: 0.9482\n",
            "Epoch 22/50\n",
            "13/13 [==============================] - 6s 466ms/step - loss: 0.0015 - acc: 1.0000 - precision: 1.0000 - recall: 1.0000 - val_loss: 0.7882 - val_acc: 0.8803 - val_precision: 0.9164 - val_recall: 0.9463\n",
            "Epoch 23/50\n",
            "13/13 [==============================] - 6s 462ms/step - loss: 0.0014 - acc: 1.0000 - precision: 1.0000 - recall: 1.0000 - val_loss: 0.8109 - val_acc: 0.8787 - val_precision: 0.9147 - val_recall: 0.9463\n",
            "Epoch 24/50\n",
            "13/13 [==============================] - 6s 476ms/step - loss: 0.0013 - acc: 1.0000 - precision: 1.0000 - recall: 1.0000 - val_loss: 0.8291 - val_acc: 0.8803 - val_precision: 0.9148 - val_recall: 0.9482\n",
            "Epoch 25/50\n",
            "13/13 [==============================] - 6s 481ms/step - loss: 0.0011 - acc: 1.0000 - precision: 1.0000 - recall: 1.0000 - val_loss: 0.8480 - val_acc: 0.8803 - val_precision: 0.9148 - val_recall: 0.9482\n",
            "Epoch 26/50\n",
            "13/13 [==============================] - 6s 474ms/step - loss: 0.0011 - acc: 1.0000 - precision: 1.0000 - recall: 1.0000 - val_loss: 0.8670 - val_acc: 0.8787 - val_precision: 0.9116 - val_recall: 0.9501\n",
            "Epoch 27/50\n",
            "13/13 [==============================] - 6s 474ms/step - loss: 0.0010 - acc: 1.0000 - precision: 1.0000 - recall: 1.0000 - val_loss: 0.8819 - val_acc: 0.8787 - val_precision: 0.9116 - val_recall: 0.9501\n",
            "Epoch 28/50\n",
            "13/13 [==============================] - 6s 473ms/step - loss: 0.0010 - acc: 1.0000 - precision: 1.0000 - recall: 1.0000 - val_loss: 0.8994 - val_acc: 0.8787 - val_precision: 0.9116 - val_recall: 0.9501\n",
            "Epoch 29/50\n",
            "13/13 [==============================] - 6s 475ms/step - loss: 9.8865e-04 - acc: 1.0000 - precision: 1.0000 - recall: 1.0000 - val_loss: 0.8989 - val_acc: 0.8787 - val_precision: 0.9131 - val_recall: 0.9482\n",
            "Epoch 30/50\n",
            "13/13 [==============================] - 6s 467ms/step - loss: 8.7602e-04 - acc: 1.0000 - precision: 1.0000 - recall: 1.0000 - val_loss: 0.9030 - val_acc: 0.8770 - val_precision: 0.9145 - val_recall: 0.9443\n",
            "Epoch 31/50\n",
            "13/13 [==============================] - 6s 480ms/step - loss: 8.6573e-04 - acc: 1.0000 - precision: 1.0000 - recall: 1.0000 - val_loss: 0.9262 - val_acc: 0.8738 - val_precision: 0.9111 - val_recall: 0.9443\n",
            "Epoch 32/50\n",
            "13/13 [==============================] - 6s 475ms/step - loss: 8.3187e-04 - acc: 1.0000 - precision: 1.0000 - recall: 1.0000 - val_loss: 0.9418 - val_acc: 0.8770 - val_precision: 0.9114 - val_recall: 0.9482\n",
            "Epoch 33/50\n",
            "13/13 [==============================] - 6s 471ms/step - loss: 8.8507e-04 - acc: 1.0000 - precision: 1.0000 - recall: 1.0000 - val_loss: 0.9545 - val_acc: 0.8754 - val_precision: 0.9113 - val_recall: 0.9463\n",
            "Epoch 34/50\n",
            "13/13 [==============================] - 6s 471ms/step - loss: 7.8224e-04 - acc: 1.0000 - precision: 1.0000 - recall: 1.0000 - val_loss: 0.9663 - val_acc: 0.8754 - val_precision: 0.9113 - val_recall: 0.9463\n",
            "Epoch 35/50\n",
            "13/13 [==============================] - 6s 483ms/step - loss: 7.9795e-04 - acc: 1.0000 - precision: 1.0000 - recall: 1.0000 - val_loss: 0.9786 - val_acc: 0.8754 - val_precision: 0.9113 - val_recall: 0.9463\n",
            "Epoch 36/50\n",
            "13/13 [==============================] - 6s 470ms/step - loss: 7.5678e-04 - acc: 1.0000 - precision: 1.0000 - recall: 1.0000 - val_loss: 0.9903 - val_acc: 0.8738 - val_precision: 0.9111 - val_recall: 0.9443\n",
            "Epoch 37/50\n",
            "13/13 [==============================] - 6s 469ms/step - loss: 7.4027e-04 - acc: 1.0000 - precision: 1.0000 - recall: 1.0000 - val_loss: 1.0002 - val_acc: 0.8738 - val_precision: 0.9111 - val_recall: 0.9443\n",
            "Epoch 38/50\n",
            "13/13 [==============================] - 6s 477ms/step - loss: 7.2465e-04 - acc: 1.0000 - precision: 1.0000 - recall: 1.0000 - val_loss: 1.0098 - val_acc: 0.8738 - val_precision: 0.9111 - val_recall: 0.9443\n",
            "Epoch 39/50\n",
            "13/13 [==============================] - 6s 481ms/step - loss: 7.0494e-04 - acc: 1.0000 - precision: 1.0000 - recall: 1.0000 - val_loss: 1.0179 - val_acc: 0.8721 - val_precision: 0.9109 - val_recall: 0.9424\n",
            "Epoch 40/50\n",
            "13/13 [==============================] - 6s 463ms/step - loss: 6.7695e-04 - acc: 1.0000 - precision: 1.0000 - recall: 1.0000 - val_loss: 1.0294 - val_acc: 0.8721 - val_precision: 0.9109 - val_recall: 0.9424\n",
            "Epoch 41/50\n",
            "13/13 [==============================] - 6s 458ms/step - loss: 6.9280e-04 - acc: 1.0000 - precision: 1.0000 - recall: 1.0000 - val_loss: 1.0411 - val_acc: 0.8738 - val_precision: 0.9111 - val_recall: 0.9443\n",
            "Epoch 42/50\n",
            "13/13 [==============================] - 6s 474ms/step - loss: 6.8560e-04 - acc: 1.0000 - precision: 1.0000 - recall: 1.0000 - val_loss: 1.0467 - val_acc: 0.8721 - val_precision: 0.9109 - val_recall: 0.9424\n",
            "Epoch 43/50\n",
            "13/13 [==============================] - 6s 480ms/step - loss: 6.2659e-04 - acc: 1.0000 - precision: 1.0000 - recall: 1.0000 - val_loss: 1.0510 - val_acc: 0.8738 - val_precision: 0.9126 - val_recall: 0.9424\n",
            "Epoch 44/50\n",
            "13/13 [==============================] - 6s 474ms/step - loss: 6.6549e-04 - acc: 1.0000 - precision: 1.0000 - recall: 1.0000 - val_loss: 1.0589 - val_acc: 0.8721 - val_precision: 0.9125 - val_recall: 0.9405\n",
            "Epoch 45/50\n",
            "13/13 [==============================] - 6s 481ms/step - loss: 6.4410e-04 - acc: 1.0000 - precision: 1.0000 - recall: 1.0000 - val_loss: 1.0666 - val_acc: 0.8721 - val_precision: 0.9125 - val_recall: 0.9405\n",
            "Epoch 46/50\n",
            "13/13 [==============================] - 6s 498ms/step - loss: 6.3108e-04 - acc: 1.0000 - precision: 1.0000 - recall: 1.0000 - val_loss: 1.0783 - val_acc: 0.8721 - val_precision: 0.9109 - val_recall: 0.9424\n",
            "Epoch 47/50\n",
            "13/13 [==============================] - 6s 442ms/step - loss: 5.8989e-04 - acc: 1.0000 - precision: 1.0000 - recall: 1.0000 - val_loss: 1.0876 - val_acc: 0.8705 - val_precision: 0.9108 - val_recall: 0.9405\n",
            "Epoch 48/50\n",
            "13/13 [==============================] - 6s 437ms/step - loss: 5.8708e-04 - acc: 1.0000 - precision: 1.0000 - recall: 1.0000 - val_loss: 1.0944 - val_acc: 0.8705 - val_precision: 0.9108 - val_recall: 0.9405\n",
            "Epoch 49/50\n",
            "13/13 [==============================] - 6s 448ms/step - loss: 5.7347e-04 - acc: 1.0000 - precision: 1.0000 - recall: 1.0000 - val_loss: 1.0982 - val_acc: 0.8721 - val_precision: 0.9125 - val_recall: 0.9405\n",
            "Epoch 50/50\n",
            "13/13 [==============================] - 6s 453ms/step - loss: 5.9696e-04 - acc: 1.0000 - precision: 1.0000 - recall: 1.0000 - val_loss: 1.1112 - val_acc: 0.8689 - val_precision: 0.9091 - val_recall: 0.9405\n",
            "Best epoch: 16\n"
          ]
        }
      ]
    },
    {
      "cell_type": "markdown",
      "source": [
        "### Repetição do treino para uma quantidade ótima de épocas\n"
      ],
      "metadata": {
        "id": "eqIYeA7v1WWt"
      }
    },
    {
      "cell_type": "code",
      "source": [
        "hypermodel = tuner.hypermodel.build(best_hps)\n",
        "\n",
        "# Retrain the model\n",
        "hypermodel.fit(X_train, y_train, epochs=best_epoch, batch_size = 200, validation_split=0.2)"
      ],
      "metadata": {
        "colab": {
          "base_uri": "https://localhost:8080/"
        },
        "id": "1vHca8AlSIZF",
        "outputId": "4aaa1d25-8d5d-4096-d15f-e23ba6b57278"
      },
      "execution_count": 31,
      "outputs": [
        {
          "output_type": "stream",
          "name": "stdout",
          "text": [
            "Epoch 1/16\n",
            "13/13 [==============================] - 13s 588ms/step - loss: 0.6117 - acc: 0.7912 - precision: 0.8536 - recall: 0.9108 - val_loss: 0.4590 - val_acc: 0.8541 - val_precision: 0.8541 - val_recall: 1.0000\n",
            "Epoch 2/16\n",
            "13/13 [==============================] - 6s 436ms/step - loss: 0.4345 - acc: 0.8507 - precision: 0.8507 - recall: 1.0000 - val_loss: 0.4126 - val_acc: 0.8541 - val_precision: 0.8541 - val_recall: 1.0000\n",
            "Epoch 3/16\n",
            "13/13 [==============================] - 6s 436ms/step - loss: 0.3975 - acc: 0.8507 - precision: 0.8507 - recall: 1.0000 - val_loss: 0.3998 - val_acc: 0.8541 - val_precision: 0.8541 - val_recall: 1.0000\n",
            "Epoch 4/16\n",
            "13/13 [==============================] - 6s 436ms/step - loss: 0.3629 - acc: 0.8507 - precision: 0.8507 - recall: 1.0000 - val_loss: 0.3837 - val_acc: 0.8541 - val_precision: 0.8541 - val_recall: 1.0000\n",
            "Epoch 5/16\n",
            "13/13 [==============================] - 6s 440ms/step - loss: 0.3037 - acc: 0.8597 - precision: 0.8599 - recall: 0.9976 - val_loss: 0.3894 - val_acc: 0.8574 - val_precision: 0.8629 - val_recall: 0.9904\n",
            "Epoch 6/16\n",
            "13/13 [==============================] - 6s 449ms/step - loss: 0.2531 - acc: 0.8979 - precision: 0.9109 - recall: 0.9754 - val_loss: 0.3499 - val_acc: 0.8672 - val_precision: 0.8793 - val_recall: 0.9789\n",
            "Epoch 7/16\n",
            "13/13 [==============================] - 6s 425ms/step - loss: 0.1960 - acc: 0.9241 - precision: 0.9407 - recall: 0.9720 - val_loss: 0.3722 - val_acc: 0.8754 - val_precision: 0.8980 - val_recall: 0.9635\n",
            "Epoch 8/16\n",
            "13/13 [==============================] - 6s 430ms/step - loss: 0.1631 - acc: 0.9426 - precision: 0.9574 - recall: 0.9759 - val_loss: 0.3553 - val_acc: 0.8672 - val_precision: 0.8986 - val_recall: 0.9520\n",
            "Epoch 9/16\n",
            "13/13 [==============================] - 6s 434ms/step - loss: 0.1077 - acc: 0.9676 - precision: 0.9821 - recall: 0.9797 - val_loss: 0.4034 - val_acc: 0.8738 - val_precision: 0.9051 - val_recall: 0.9520\n",
            "Epoch 10/16\n",
            "13/13 [==============================] - 6s 446ms/step - loss: 0.0746 - acc: 0.9820 - precision: 0.9894 - recall: 0.9894 - val_loss: 0.4536 - val_acc: 0.8754 - val_precision: 0.9098 - val_recall: 0.9482\n",
            "Epoch 11/16\n",
            "13/13 [==============================] - 6s 438ms/step - loss: 0.0490 - acc: 0.9865 - precision: 0.9928 - recall: 0.9913 - val_loss: 0.4593 - val_acc: 0.8639 - val_precision: 0.9117 - val_recall: 0.9309\n",
            "Epoch 12/16\n",
            "13/13 [==============================] - 6s 443ms/step - loss: 0.0339 - acc: 0.9914 - precision: 0.9957 - recall: 0.9942 - val_loss: 0.5905 - val_acc: 0.8787 - val_precision: 0.9042 - val_recall: 0.9597\n",
            "Epoch 13/16\n",
            "13/13 [==============================] - 6s 439ms/step - loss: 0.0316 - acc: 0.9922 - precision: 0.9938 - recall: 0.9971 - val_loss: 0.5263 - val_acc: 0.8574 - val_precision: 0.9064 - val_recall: 0.9290\n",
            "Epoch 14/16\n",
            "13/13 [==============================] - 6s 431ms/step - loss: 0.0121 - acc: 0.9979 - precision: 0.9990 - recall: 0.9986 - val_loss: 0.6744 - val_acc: 0.8689 - val_precision: 0.9031 - val_recall: 0.9482\n",
            "Epoch 15/16\n",
            "13/13 [==============================] - 6s 430ms/step - loss: 0.0096 - acc: 0.9975 - precision: 0.9981 - recall: 0.9990 - val_loss: 0.6599 - val_acc: 0.8672 - val_precision: 0.9015 - val_recall: 0.9482\n",
            "Epoch 16/16\n",
            "13/13 [==============================] - 6s 440ms/step - loss: 0.0114 - acc: 0.9975 - precision: 0.9986 - recall: 0.9986 - val_loss: 0.6289 - val_acc: 0.8738 - val_precision: 0.8978 - val_recall: 0.9616\n"
          ]
        },
        {
          "output_type": "execute_result",
          "data": {
            "text/plain": [
              "<keras.callbacks.History at 0x7ff9e7560290>"
            ]
          },
          "metadata": {},
          "execution_count": 31
        }
      ]
    },
    {
      "cell_type": "markdown",
      "source": [
        "### Teste do modelo otimizado"
      ],
      "metadata": {
        "id": "uNlTjKUm1Zug"
      }
    },
    {
      "cell_type": "code",
      "source": [
        "eval_result = hypermodel.evaluate(X_test, y_test)"
      ],
      "metadata": {
        "colab": {
          "base_uri": "https://localhost:8080/"
        },
        "id": "KNw6mA7BSSRz",
        "outputId": "b19e7086-76a8-4078-9ecc-6bb4271a2bc8"
      },
      "execution_count": 32,
      "outputs": [
        {
          "output_type": "stream",
          "name": "stdout",
          "text": [
            "24/24 [==============================] - 1s 28ms/step - loss: 0.6564 - acc: 0.8661 - precision: 0.8814 - recall: 0.9720\n"
          ]
        }
      ]
    },
    {
      "cell_type": "code",
      "source": [
        "precision = eval_result[2]\n",
        "recall = eval_result[3]\n",
        "f1_score = (2*recall*precision)/(recall+precision)\n",
        "print('F1-Score:', f1_score)"
      ],
      "metadata": {
        "colab": {
          "base_uri": "https://localhost:8080/"
        },
        "id": "uJno4QY9WEGy",
        "outputId": "4bc8e38d-a2f1-48e9-afcc-d5eddbfade88"
      },
      "execution_count": 33,
      "outputs": [
        {
          "output_type": "stream",
          "name": "stdout",
          "text": [
            "F1-Score: 0.9244444557448964\n"
          ]
        }
      ]
    },
    {
      "cell_type": "markdown",
      "source": [
        "## Salvando as predições junto ao dataframe original"
      ],
      "metadata": {
        "id": "VH7QJ4sM-Qke"
      }
    },
    {
      "cell_type": "code",
      "source": [
        "y_pred = []\n",
        "for predict in hypermodel.predict(X_test):\n",
        "  if predict > 0.5:\n",
        "    y_pred.append(1)\n",
        "  else:\n",
        "    y_pred.append(0)"
      ],
      "metadata": {
        "id": "MkeAVLOB-S80"
      },
      "execution_count": 34,
      "outputs": []
    },
    {
      "cell_type": "code",
      "source": [
        "_, predict_df, _, _ = train_test_split(df, y, test_size=0.2, random_state=42)\n",
        "predict_df.insert(1, 'predict', y_pred)\n",
        "predict_df.to_csv('/content/drive/MyDrive/ProjetoFinal_ProcessText/predict_datasets/LSTM_predict.csv')"
      ],
      "metadata": {
        "id": "4Awd3bZVWQWe"
      },
      "execution_count": 35,
      "outputs": []
    }
  ]
}